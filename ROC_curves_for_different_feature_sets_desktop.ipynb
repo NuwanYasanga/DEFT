{
 "cells": [
  {
   "cell_type": "code",
   "execution_count": 1,
   "id": "a5be8092",
   "metadata": {},
   "outputs": [],
   "source": [
    "import pandas as pd\n",
    "import numpy as np\n",
    "import xgboost as xgb\n",
    "from imblearn.over_sampling import ADASYN\n",
    "from imblearn.over_sampling import SMOTE\n",
    "from imblearn.under_sampling import RandomUnderSampler\n",
    "from collections import Counter\n",
    "from sklearn import metrics\n",
    "from sklearn.preprocessing import StandardScaler\n",
    "from sklearn.metrics import classification_report, confusion_matrix, roc_curve, roc_auc_score\n",
    "from sklearn.ensemble import RandomForestClassifier\n",
    "from sklearn.svm import SVC\n",
    "from sklearn.naive_bayes import GaussianNB\n",
    "from sklearn.metrics import confusion_matrix\n",
    "from functools import reduce\n",
    "from sklearn.model_selection import GridSearchCV\n",
    "from statistics import mean, stdev\n",
    "from sklearn.model_selection import StratifiedKFold, train_test_split, cross_val_predict\n",
    "from imblearn.over_sampling import BorderlineSMOTE\n",
    "from imblearn.over_sampling import SVMSMOTE\n",
    "from imblearn.under_sampling import TomekLinks\n",
    "from matplotlib import pyplot as plt\n",
    "from sklearn.utils import class_weight\n",
    "from scipy.interpolate import splrep, splev\n",
    "from scipy.interpolate import make_interp_spline\n",
    "import matplotlib.ticker as ticker\n",
    "import matplotlib.patches as mpatches"
   ]
  },
  {
   "cell_type": "code",
   "execution_count": 9,
   "id": "ecee5879",
   "metadata": {},
   "outputs": [],
   "source": [
    "temp = pd.read_csv('C:/Users/s3929438/all_features_mobile_100_non_con.csv')"
   ]
  },
  {
   "cell_type": "code",
   "execution_count": 11,
   "id": "84d15e89",
   "metadata": {},
   "outputs": [
    {
     "data": {
      "text/html": [
       "<div>\n",
       "<style scoped>\n",
       "    .dataframe tbody tr th:only-of-type {\n",
       "        vertical-align: middle;\n",
       "    }\n",
       "\n",
       "    .dataframe tbody tr th {\n",
       "        vertical-align: top;\n",
       "    }\n",
       "\n",
       "    .dataframe thead th {\n",
       "        text-align: right;\n",
       "    }\n",
       "</style>\n",
       "<table border=\"1\" class=\"dataframe\">\n",
       "  <thead>\n",
       "    <tr style=\"text-align: right;\">\n",
       "      <th></th>\n",
       "      <th>Error_rate_%</th>\n",
       "      <th>WPM</th>\n",
       "      <th>neg_UD_%</th>\n",
       "      <th>neg_UU_%</th>\n",
       "      <th>Other</th>\n",
       "    </tr>\n",
       "  </thead>\n",
       "  <tbody>\n",
       "    <tr>\n",
       "      <th>0</th>\n",
       "      <td>23.0</td>\n",
       "      <td>31.875000</td>\n",
       "      <td>2.565283</td>\n",
       "      <td>0.000000</td>\n",
       "      <td>0</td>\n",
       "    </tr>\n",
       "    <tr>\n",
       "      <th>1</th>\n",
       "      <td>13.0</td>\n",
       "      <td>34.545455</td>\n",
       "      <td>2.565283</td>\n",
       "      <td>0.000000</td>\n",
       "      <td>0</td>\n",
       "    </tr>\n",
       "    <tr>\n",
       "      <th>2</th>\n",
       "      <td>8.0</td>\n",
       "      <td>31.666667</td>\n",
       "      <td>3.030303</td>\n",
       "      <td>0.000000</td>\n",
       "      <td>0</td>\n",
       "    </tr>\n",
       "    <tr>\n",
       "      <th>3</th>\n",
       "      <td>16.0</td>\n",
       "      <td>36.000000</td>\n",
       "      <td>2.020202</td>\n",
       "      <td>0.000000</td>\n",
       "      <td>0</td>\n",
       "    </tr>\n",
       "    <tr>\n",
       "      <th>4</th>\n",
       "      <td>17.0</td>\n",
       "      <td>33.529412</td>\n",
       "      <td>2.020202</td>\n",
       "      <td>0.000000</td>\n",
       "      <td>0</td>\n",
       "    </tr>\n",
       "    <tr>\n",
       "      <th>...</th>\n",
       "      <td>...</td>\n",
       "      <td>...</td>\n",
       "      <td>...</td>\n",
       "      <td>...</td>\n",
       "      <td>...</td>\n",
       "    </tr>\n",
       "    <tr>\n",
       "      <th>5354</th>\n",
       "      <td>11.0</td>\n",
       "      <td>30.857143</td>\n",
       "      <td>1.010101</td>\n",
       "      <td>1.010101</td>\n",
       "      <td>0</td>\n",
       "    </tr>\n",
       "    <tr>\n",
       "      <th>5355</th>\n",
       "      <td>7.0</td>\n",
       "      <td>37.500000</td>\n",
       "      <td>1.236858</td>\n",
       "      <td>0.000000</td>\n",
       "      <td>0</td>\n",
       "    </tr>\n",
       "    <tr>\n",
       "      <th>5356</th>\n",
       "      <td>8.0</td>\n",
       "      <td>44.444444</td>\n",
       "      <td>1.236858</td>\n",
       "      <td>0.000000</td>\n",
       "      <td>0</td>\n",
       "    </tr>\n",
       "    <tr>\n",
       "      <th>5357</th>\n",
       "      <td>7.0</td>\n",
       "      <td>22.500000</td>\n",
       "      <td>1.236858</td>\n",
       "      <td>0.000000</td>\n",
       "      <td>0</td>\n",
       "    </tr>\n",
       "    <tr>\n",
       "      <th>5358</th>\n",
       "      <td>9.0</td>\n",
       "      <td>34.285714</td>\n",
       "      <td>1.236858</td>\n",
       "      <td>0.000000</td>\n",
       "      <td>0</td>\n",
       "    </tr>\n",
       "  </tbody>\n",
       "</table>\n",
       "<p>5359 rows × 5 columns</p>\n",
       "</div>"
      ],
      "text/plain": [
       "      Error_rate_%        WPM  neg_UD_%  neg_UU_%  Other\n",
       "0             23.0  31.875000  2.565283  0.000000      0\n",
       "1             13.0  34.545455  2.565283  0.000000      0\n",
       "2              8.0  31.666667  3.030303  0.000000      0\n",
       "3             16.0  36.000000  2.020202  0.000000      0\n",
       "4             17.0  33.529412  2.020202  0.000000      0\n",
       "...            ...        ...       ...       ...    ...\n",
       "5354          11.0  30.857143  1.010101  1.010101      0\n",
       "5355           7.0  37.500000  1.236858  0.000000      0\n",
       "5356           8.0  44.444444  1.236858  0.000000      0\n",
       "5357           7.0  22.500000  1.236858  0.000000      0\n",
       "5358           9.0  34.285714  1.236858  0.000000      0\n",
       "\n",
       "[5359 rows x 5 columns]"
      ]
     },
     "execution_count": 11,
     "metadata": {},
     "output_type": "execute_result"
    }
   ],
   "source": [
    "temp.iloc[:,3:8]"
   ]
  },
  {
   "cell_type": "code",
   "execution_count": 325,
   "id": "11519b32",
   "metadata": {},
   "outputs": [],
   "source": [
    "# Feature selection for NC+TEMp+CKP for desktop\n",
    "selected_features = ['Error_rate_%', 'WPM', 'neg_UD_%', 'LSA_ratio',\n",
    "       'Hold_time', 'mean_F1', 'mean_F2', 'mean_F3', 'mean_F4', 'Tri_graph',\n",
    "       'mean_F1_se', 'mean_F2_se', 'mean_F3_se', 'mean_F4_se', 'mean_F1_th',\n",
    "       'mean_F2_th', 'mean_F3_th', 'mean_F4_th', 'mean_F1_he']\n",
    "\n",
    "# # Feature selection for NC+TEMp+CKP for mobile\n",
    "# selected_features = ['Error_rate_%', 'WPM', 'neg_UD_%', 'Tri_graph', 'mean_hold_time',\n",
    "#        'mean_F1', 'mean_F2', 'mean_F3', 'mean_F4', 'mean_F1_se', 'mean_F2_se',\n",
    "#        'mean_F3_se', 'mean_F4_se', 'mean_F1_th', 'mean_F2_th', 'mean_F3_th',\n",
    "#        'mean_F4_th', 'mean_F1_le', 'mean_F2_le', 'mean_F3_le', 'mean_F4_le']\n",
    "\n",
    "# # Feature selection for NC+TEMp+CKP for tablet\n",
    "# selected_features = ['Tri_graph', 'Error_rate_%', 'WPM', 'neg_UD_%', 'mean_hold_time',\n",
    "#        'mean_F1', 'mean_F2', 'mean_F3', 'mean_F4', 'mean_F1_se', 'mean_F2_se',\n",
    "#        'mean_F3_se', 'mean_F4_se', 'mean_F1_th', 'mean_F2_th', 'mean_F3_th',\n",
    "#        'mean_F4_th', 'mean_F1_le', 'mean_F2_le', 'mean_F3_le', 'mean_F4_le']"
   ]
  },
  {
   "cell_type": "code",
   "execution_count": 12,
   "id": "2843af52",
   "metadata": {},
   "outputs": [],
   "source": [
    "round_1_prob = []\n",
    "round_2_prob = []\n",
    "round_3_prob = []\n",
    "round_4_prob = []\n",
    "round_5_prob = []\n",
    "\n",
    "round_1_lbl = []\n",
    "round_2_lbl = []\n",
    "round_3_lbl = []\n",
    "round_4_lbl = []\n",
    "round_5_lbl = []\n",
    "\n",
    "round_1_pred_lbl = []\n",
    "round_2_pred_lbl = []\n",
    "round_3_pred_lbl = []\n",
    "round_4_pred_lbl = []\n",
    "round_5_pred_lbl = []\n",
    "\n",
    "\n",
    "for a,i in enumerate (temp['User'].unique()):\n",
    "# for i in range (1,3):\n",
    "    user_set = temp[temp['User']==i]\n",
    "    other_set = temp[temp['User']!=i]\n",
    "    user_id = i\n",
    "              \n",
    "    user_set.insert(loc = len(user_set.columns),column = 'User_type',value = 1)\n",
    "    other_set.insert(loc = len(other_set.columns),column = 'User_type',value = 0)\n",
    "    \n",
    "    final_set = user_set.append(other_set)\n",
    "    \n",
    "    x = final_set.iloc[:,3:8]\n",
    "    y = final_set['User_type']\n",
    "    \n",
    "    k = 5\n",
    "    skf = StratifiedKFold(n_splits=k, shuffle=True, random_state=42)\n",
    "    resample = SMOTE(random_state=42)\n",
    "    \n",
    "#     model_sl = xgb.XGBClassifier(colsample_bytree = 0.3,min_child_weight = 2,max_depth = 4)\n",
    "    model_sl = xgb.XGBClassifier(\n",
    "        max_depth =5,min_child_weight=5,learning_rate=0.1, subsample=0.7,colsample_bytree=0.5,\n",
    "                                    scale_pos_weight = 0.9\n",
    "                                )\n",
    "    \n",
    "    \n",
    "    for s , (train_index , test_index) in enumerate (skf.split(x,y)):\n",
    "        if s==0:\n",
    "            fold_1 = []\n",
    "            pred_lbl1 = []\n",
    "            labels_1 = []\n",
    "            X_train , X_test = x.iloc[train_index,:],x.iloc[test_index,:]\n",
    "            y_train , y_test = y.iloc[train_index] , y.iloc[test_index]\n",
    "        \n",
    "            x_train_res, y_train_res = resample.fit_resample(X_train, y_train)\n",
    "        \n",
    "            model_sl.fit(x_train_res,y_train_res)\n",
    "            pred_values = model_sl.predict(X_test)\n",
    "            predict_probs = model_sl.predict_proba(X_test)\n",
    "            true_label = y_test\n",
    "        \n",
    "            fold_1.append(predict_probs[:,-1].tolist())\n",
    "            labels_1.append(true_label.to_list())\n",
    "            pred_lbl1.append(pred_values.tolist())\n",
    "            \n",
    "        if s==1:\n",
    "            fold_2 = []\n",
    "            labels_2 = []\n",
    "            pred_lbl2 = []\n",
    "            X_train , X_test = x.iloc[train_index,:],x.iloc[test_index,:]\n",
    "            y_train , y_test = y.iloc[train_index] , y.iloc[test_index]\n",
    "        \n",
    "            x_train_res, y_train_res = resample.fit_resample(X_train, y_train)\n",
    "        \n",
    "            model_sl.fit(x_train_res,y_train_res)\n",
    "            pred_values = model_sl.predict(X_test)\n",
    "            predict_probs = model_sl.predict_proba(X_test)\n",
    "            true_label = y_test\n",
    "        \n",
    "            fold_2.append(predict_probs[:,-1].tolist())\n",
    "            labels_2.append(true_label.to_list())\n",
    "            pred_lbl2.append(pred_values.tolist())\n",
    "            \n",
    "        if s==2:\n",
    "            fold_3 = []\n",
    "            labels_3 = []\n",
    "            pred_lbl3 = []\n",
    "            X_train , X_test = x.iloc[train_index,:],x.iloc[test_index,:]\n",
    "            y_train , y_test = y.iloc[train_index] , y.iloc[test_index]\n",
    "        \n",
    "            x_train_res, y_train_res = resample.fit_resample(X_train, y_train)\n",
    "        \n",
    "            model_sl.fit(x_train_res,y_train_res)\n",
    "            pred_values = model_sl.predict(X_test)\n",
    "            predict_probs = model_sl.predict_proba(X_test)\n",
    "            true_label = y_test\n",
    "        \n",
    "            fold_3.append(predict_probs[:,-1].tolist())\n",
    "            labels_3.append(true_label.to_list())\n",
    "            pred_lbl3.append(pred_values.tolist())\n",
    "            \n",
    "        if s==3:\n",
    "            fold_4 = []\n",
    "            labels_4 = []\n",
    "            pred_lbl4 = []\n",
    "            X_train , X_test = x.iloc[train_index,:],x.iloc[test_index,:]\n",
    "            y_train , y_test = y.iloc[train_index] , y.iloc[test_index]\n",
    "        \n",
    "            x_train_res, y_train_res = resample.fit_resample(X_train, y_train)\n",
    "        \n",
    "            model_sl.fit(x_train_res,y_train_res)\n",
    "            pred_values = model_sl.predict(X_test)\n",
    "            predict_probs = model_sl.predict_proba(X_test)\n",
    "            true_label = y_test\n",
    "        \n",
    "            fold_4.append(predict_probs[:,-1].tolist())\n",
    "            labels_4.append(true_label.to_list())\n",
    "            pred_lbl4.append(pred_values.tolist())\n",
    "                \n",
    "        if s==4:\n",
    "            fold_5 = []\n",
    "            labels_5 = []\n",
    "            pred_lbl5 = []\n",
    "            X_train , X_test = x.iloc[train_index,:],x.iloc[test_index,:]\n",
    "            y_train , y_test = y.iloc[train_index] , y.iloc[test_index]\n",
    "        \n",
    "            x_train_res, y_train_res = resample.fit_resample(X_train, y_train)\n",
    "        \n",
    "            model_sl.fit(x_train_res,y_train_res)\n",
    "            pred_values = model_sl.predict(X_test)\n",
    "            predict_probs = model_sl.predict_proba(X_test)\n",
    "            true_label = y_test\n",
    "        \n",
    "            fold_5.append(predict_probs[:,-1].tolist())\n",
    "            labels_5.append(true_label.to_list())\n",
    "            pred_lbl5.append(pred_values.tolist())\n",
    "                \n",
    "    round_1_prob.append(fold_1[0])\n",
    "    round_2_prob.append(fold_2[0])\n",
    "    round_3_prob.append(fold_3[0])\n",
    "    round_4_prob.append(fold_4[0])\n",
    "    round_5_prob.append(fold_5[0])\n",
    "        \n",
    "    round_1_lbl.append(labels_1[0])\n",
    "    round_2_lbl.append(labels_2[0])\n",
    "    round_3_lbl.append(labels_3[0])\n",
    "    round_4_lbl.append(labels_4[0])\n",
    "    round_5_lbl.append(labels_5[0])\n",
    "    \n",
    "    round_1_pred_lbl.append(pred_lbl1[0])\n",
    "    round_2_pred_lbl.append(pred_lbl2[0])\n",
    "    round_3_pred_lbl.append(pred_lbl3[0])\n",
    "    round_4_pred_lbl.append(pred_lbl4[0])\n",
    "    round_5_pred_lbl.append(pred_lbl5[0])"
   ]
  },
  {
   "cell_type": "code",
   "execution_count": 13,
   "id": "5fde1dd4",
   "metadata": {},
   "outputs": [],
   "source": [
    "for z in range(0,116):\n",
    "    if z == 0:\n",
    "        append_all_fold1 = round_1_prob[z]\n",
    "        append_all_label1 = round_1_lbl[z]\n",
    "        append_all_pred_label1 = round_1_pred_lbl[z]\n",
    "    else:\n",
    "        append_all_fold1 = append_all_fold1 + round_1_prob[z]\n",
    "        append_all_label1 = append_all_label1 + round_1_lbl[z]\n",
    "        append_all_pred_label1 = append_all_pred_label1 + round_1_pred_lbl[z]\n",
    "        \n",
    "# for a,x in enumerate (all_merged['User'].unique()):\n",
    "for z in range (0,116):\n",
    "    if z == 0:\n",
    "        append_all_fold2 = round_2_prob[z]\n",
    "        append_all_label2 = round_2_lbl[z]\n",
    "        append_all_pred_label2 = round_2_pred_lbl[z]\n",
    "    else:\n",
    "        append_all_fold2 = append_all_fold2 + round_2_prob[z]\n",
    "        append_all_label2 = append_all_label2 + round_2_lbl[z]\n",
    "        append_all_pred_label2 = append_all_pred_label2 + round_2_pred_lbl[z]\n",
    "        \n",
    "# for a,x in enumerate (all_merged['User'].unique()):\n",
    "for z in range (0,116):\n",
    "    if z == 0:\n",
    "        append_all_fold3 = round_3_prob[z]\n",
    "        append_all_label3 = round_3_lbl[z]\n",
    "        append_all_pred_label3 = round_3_pred_lbl[z]\n",
    "    else:\n",
    "        append_all_fold3 = append_all_fold3 + round_3_prob[z]\n",
    "        append_all_label3 = append_all_label3 + round_3_lbl[z]\n",
    "        append_all_pred_label3 = append_all_pred_label3 + round_3_pred_lbl[z]\n",
    "        \n",
    "# for a,x in enumerate (all_merged['User'].unique()):\n",
    "for z in range (0,116):\n",
    "    if z == 0:\n",
    "        append_all_fold4 = round_4_prob[z]\n",
    "        append_all_label4 = round_4_lbl[z]\n",
    "        append_all_pred_label4 = round_4_pred_lbl[z]\n",
    "    else:\n",
    "        append_all_fold4 = append_all_fold4 + round_4_prob[z]\n",
    "        append_all_label4 = append_all_label4 + round_4_lbl[z]\n",
    "        append_all_pred_label4 = append_all_pred_label4 + round_4_pred_lbl[z]\n",
    "        \n",
    "# for a,x in enumerate (all_merged['User'].unique()):\n",
    "for z in range (0,116):\n",
    "    if z == 0:\n",
    "        append_all_fold5 = round_5_prob[z]\n",
    "        append_all_label5 = round_5_lbl[z]\n",
    "        append_all_pred_label5 = round_5_pred_lbl[z]\n",
    "    else:\n",
    "        append_all_fold5 = append_all_fold5 + round_5_prob[z]\n",
    "        append_all_label5 = append_all_label5 + round_5_lbl[z]\n",
    "        append_all_pred_label5 = append_all_pred_label5 + round_5_pred_lbl[z]"
   ]
  },
  {
   "cell_type": "code",
   "execution_count": 14,
   "id": "507260c4",
   "metadata": {},
   "outputs": [],
   "source": [
    "Final_results_df_all = pd.DataFrame(list(zip(append_all_fold1,append_all_label1,append_all_fold2,append_all_label2,\n",
    "                                             append_all_fold3,append_all_label3, append_all_fold4,append_all_label4,\n",
    "                                             append_all_fold5, append_all_label5,append_all_pred_label1,append_all_pred_label2,\n",
    "                                            append_all_pred_label3,append_all_pred_label4,append_all_pred_label5)),\n",
    "        columns =['Fold_1_pro','Fold_1_tl', 'Fold_2_pro', 'Fold_2_tl','Fold_3_pro','Fold_3_tl','Fold_4_pro','Fold_4_tl',\n",
    "                  'Fold_5_pro', 'Fold_5_tl','Fold_1_pl','Fold_2_pl','Fold_3_pl','Fold_4_pl','Fold_5_pl'])"
   ]
  },
  {
   "cell_type": "code",
   "execution_count": 15,
   "id": "5c694365",
   "metadata": {},
   "outputs": [],
   "source": [
    "Final_results_df_all.to_csv('Probabilities_mobile_onlyNC.csv')"
   ]
  },
  {
   "cell_type": "code",
   "execution_count": null,
   "id": "1685705c",
   "metadata": {},
   "outputs": [],
   "source": []
  },
  {
   "cell_type": "code",
   "execution_count": null,
   "id": "ecf7af5c",
   "metadata": {},
   "outputs": [],
   "source": []
  },
  {
   "cell_type": "code",
   "execution_count": null,
   "id": "2cc01e3c",
   "metadata": {},
   "outputs": [],
   "source": []
  },
  {
   "cell_type": "markdown",
   "id": "165069a4",
   "metadata": {},
   "source": [
    "# Desktop"
   ]
  },
  {
   "cell_type": "code",
   "execution_count": 331,
   "id": "9eba83e2",
   "metadata": {},
   "outputs": [],
   "source": [
    "nc = pd.read_csv('C:/Users/s3929438/Probabilities_desktop_onlyNC.csv')\n",
    "temp = pd.read_csv('C:/Users/s3929438/Probabilities_desktop_onlyTemp.csv')\n",
    "nctemp = pd.read_csv('C:/Users/s3929438/Probabilities_desktop_NC_TEMP.csv')\n",
    "deft = pd.read_csv('C:/Users/s3929438/Probabilities_XGboost_desktop.csv')\n",
    "ckp = pd.read_csv('C:/Users/s3929438/Probabilities_desktop_without_deft_ed.csv')"
   ]
  },
  {
   "cell_type": "markdown",
   "id": "f938f97a",
   "metadata": {},
   "source": [
    "# NC"
   ]
  },
  {
   "cell_type": "code",
   "execution_count": 74,
   "id": "346a2d64",
   "metadata": {},
   "outputs": [],
   "source": [
    "fpr1_nc, tpr1_nc, _ = roc_curve(nc.iloc[:,2], nc.iloc[:,1])\n",
    "fpr2_nc, tpr2_nc, _ = roc_curve(nc.iloc[:,4], nc.iloc[:,3])\n",
    "fpr3_nc, tpr3_nc, _ = roc_curve(nc.iloc[:,6], nc.iloc[:,5])\n",
    "fpr4_nc, tpr4_nc, _ = roc_curve(nc.iloc[:,8], nc.iloc[:,7])\n",
    "fpr5_nc, tpr5_nc, _ = roc_curve(nc.iloc[:,10], nc.iloc[:,9])"
   ]
  },
  {
   "cell_type": "code",
   "execution_count": 75,
   "id": "605370ba",
   "metadata": {},
   "outputs": [],
   "source": [
    "fpr_list_nc = [fpr1_nc, fpr2_nc,fpr3_nc,fpr4_nc,fpr5_nc]\n",
    "tpr_list_nc = [tpr1_nc, tpr2_nc,tpr3_nc,tpr4_nc,tpr5_nc]\n",
    "# fnr_list = [fnr1, fnr2,fnr3,fnr4,fnr5]"
   ]
  },
  {
   "cell_type": "code",
   "execution_count": 76,
   "id": "cbb89667",
   "metadata": {},
   "outputs": [],
   "source": [
    "max_length_nc = max(len(fprs) for fprs in fpr_list_nc)"
   ]
  },
  {
   "cell_type": "code",
   "execution_count": 77,
   "id": "5cd1e4f1",
   "metadata": {},
   "outputs": [],
   "source": [
    "for i in range(0,5):\n",
    "    if len(fpr_list_nc[i]) < max_length_nc:\n",
    "        fpr_list_nc[i] = np.pad(fpr_list_nc[i], (0, max_length_nc - len(fpr_list_nc[i])), constant_values=1)"
   ]
  },
  {
   "cell_type": "code",
   "execution_count": 78,
   "id": "0b7dabda",
   "metadata": {},
   "outputs": [],
   "source": [
    "for i in range(0,5):\n",
    "    if len(tpr_list_nc[i]) < max_length_nc:\n",
    "        tpr_list_nc[i] = np.pad(tpr_list_nc[i], (0, max_length_nc - len(tpr_list_nc[i])), constant_values=1)"
   ]
  },
  {
   "cell_type": "code",
   "execution_count": 79,
   "id": "c3c2d4dc",
   "metadata": {},
   "outputs": [],
   "source": [
    "mean_fpr_nc = np.mean(fpr_list_nc, axis=0)\n",
    "mean_tpr_nc = np.mean(tpr_list_nc, axis=0)"
   ]
  },
  {
   "cell_type": "markdown",
   "id": "777122fe",
   "metadata": {},
   "source": [
    "# TEMP"
   ]
  },
  {
   "cell_type": "code",
   "execution_count": 28,
   "id": "59b2bccf",
   "metadata": {},
   "outputs": [],
   "source": [
    "fpr1_temp, tpr1_temp, _ = roc_curve(temp.iloc[:,2], temp.iloc[:,1])\n",
    "fpr2_temp, tpr2_temp, _ = roc_curve(temp.iloc[:,4], temp.iloc[:,3])\n",
    "fpr3_temp, tpr3_temp, _ = roc_curve(temp.iloc[:,6], temp.iloc[:,5])\n",
    "fpr4_temp, tpr4_temp, _ = roc_curve(temp.iloc[:,8], temp.iloc[:,7])\n",
    "fpr5_temp, tpr5_temp, _ = roc_curve(temp.iloc[:,10], temp.iloc[:,9])"
   ]
  },
  {
   "cell_type": "code",
   "execution_count": 34,
   "id": "437e8cd1",
   "metadata": {},
   "outputs": [],
   "source": [
    "fpr_list_temp = [fpr1_temp, fpr2_temp,fpr3_temp,fpr4_temp,fpr5_temp]\n",
    "tpr_list_temp = [tpr1_temp, tpr2_temp,tpr3_temp,tpr4_temp,tpr5_temp]\n",
    "# fnr_list = [fnr1, fnr2,fnr3,fnr4,fnr5]"
   ]
  },
  {
   "cell_type": "code",
   "execution_count": 40,
   "id": "394e15e2",
   "metadata": {},
   "outputs": [],
   "source": [
    "max_length_temp = max(len(fprs) for fprs in fpr_list_temp)"
   ]
  },
  {
   "cell_type": "code",
   "execution_count": 41,
   "id": "0fbe6975",
   "metadata": {},
   "outputs": [],
   "source": [
    "for i in range(0,5):\n",
    "    if len(fpr_list_temp[i]) < max_length_temp:\n",
    "        fpr_list_temp[i] = np.pad(fpr_list_temp[i], (0, max_length_temp - len(fpr_list_temp[i])), constant_values=1)"
   ]
  },
  {
   "cell_type": "code",
   "execution_count": 42,
   "id": "f08f4e29",
   "metadata": {},
   "outputs": [],
   "source": [
    "for i in range(0,5):\n",
    "    if len(tpr_list_temp[i]) < max_length_temp:\n",
    "        tpr_list_temp[i] = np.pad(tpr_list_temp[i], (0, max_length_temp - len(tpr_list_temp[i])), constant_values=1)"
   ]
  },
  {
   "cell_type": "code",
   "execution_count": 43,
   "id": "36699c4a",
   "metadata": {},
   "outputs": [],
   "source": [
    "mean_fpr_temp = np.mean(fpr_list_temp, axis=0)\n",
    "mean_tpr_temp = np.mean(tpr_list_temp, axis=0)"
   ]
  },
  {
   "cell_type": "markdown",
   "id": "ec6e6212",
   "metadata": {},
   "source": [
    "# NC + TEMP"
   ]
  },
  {
   "cell_type": "code",
   "execution_count": 98,
   "id": "a90adf47",
   "metadata": {},
   "outputs": [],
   "source": [
    "fpr1_nctemp, tpr1_nctemp, _ = roc_curve(nctemp.iloc[:,2], nctemp.iloc[:,1])\n",
    "fpr2_nctemp, tpr2_nctemp, _ = roc_curve(nctemp.iloc[:,4], nctemp.iloc[:,3])\n",
    "fpr3_nctemp, tpr3_nctemp, _ = roc_curve(nctemp.iloc[:,6], nctemp.iloc[:,5])\n",
    "fpr4_nctemp, tpr4_nctemp, _ = roc_curve(nctemp.iloc[:,8], nctemp.iloc[:,7])\n",
    "fpr5_nctemp, tpr5_nctemp, _ = roc_curve(nctemp.iloc[:,10], nctemp.iloc[:,9])"
   ]
  },
  {
   "cell_type": "code",
   "execution_count": 99,
   "id": "6272875a",
   "metadata": {},
   "outputs": [],
   "source": [
    "fpr_list_nctemp = [fpr1_nctemp, fpr2_nctemp,fpr3_nctemp,fpr4_nctemp,fpr5_nctemp]\n",
    "tpr_list_nctemp = [tpr1_nctemp, tpr2_nctemp,tpr3_nctemp,tpr4_nctemp,tpr5_nctemp]"
   ]
  },
  {
   "cell_type": "code",
   "execution_count": 100,
   "id": "8aa9b676",
   "metadata": {},
   "outputs": [],
   "source": [
    "max_length_nctemp = max(len(fprs) for fprs in fpr_list_nctemp)"
   ]
  },
  {
   "cell_type": "code",
   "execution_count": 101,
   "id": "2f0613f1",
   "metadata": {},
   "outputs": [],
   "source": [
    "for i in range(0,5):\n",
    "    if len(fpr_list_nctemp[i]) < max_length_nctemp:\n",
    "        fpr_list_nctemp[i] = np.pad(fpr_list_nctemp[i], (0, max_length_nctemp - len(fpr_list_nctemp[i])), constant_values=1)"
   ]
  },
  {
   "cell_type": "code",
   "execution_count": 102,
   "id": "816ebe3d",
   "metadata": {},
   "outputs": [],
   "source": [
    "for i in range(0,5):\n",
    "    if len(tpr_list_nctemp[i]) < max_length_nctemp:\n",
    "        tpr_list_nctemp[i] = np.pad(tpr_list_nctemp[i], (0, max_length_nctemp - len(tpr_list_nctemp[i])), constant_values=1)"
   ]
  },
  {
   "cell_type": "code",
   "execution_count": 103,
   "id": "47315c80",
   "metadata": {},
   "outputs": [],
   "source": [
    "mean_fpr_nctemp = np.mean(fpr_list_nctemp, axis=0)\n",
    "mean_tpr_nctemp = np.mean(tpr_list_nctemp, axis=0)"
   ]
  },
  {
   "cell_type": "markdown",
   "id": "09742da6",
   "metadata": {},
   "source": [
    "# CKP"
   ]
  },
  {
   "cell_type": "code",
   "execution_count": 332,
   "id": "3887fee9",
   "metadata": {},
   "outputs": [],
   "source": [
    "fpr1_ckp, tpr1_ckp, _ = roc_curve(ckp.iloc[:,2], ckp.iloc[:,1])\n",
    "fpr2_ckp, tpr2_ckp, _ = roc_curve(ckp.iloc[:,4], ckp.iloc[:,3])\n",
    "fpr3_ckp, tpr3_ckp, _ = roc_curve(ckp.iloc[:,6], ckp.iloc[:,5])\n",
    "fpr4_ckp, tpr4_ckp, _ = roc_curve(ckp.iloc[:,8], ckp.iloc[:,7])\n",
    "fpr5_ckp, tpr5_ckp, _ = roc_curve(ckp.iloc[:,10], ckp.iloc[:,9])"
   ]
  },
  {
   "cell_type": "code",
   "execution_count": 333,
   "id": "65ab7499",
   "metadata": {},
   "outputs": [],
   "source": [
    "fpr_list_ckp = [fpr1_ckp, fpr2_ckp,fpr3_ckp,fpr4_ckp,fpr5_ckp]\n",
    "tpr_list_ckp = [tpr1_ckp, tpr2_ckp,tpr3_ckp,tpr4_ckp,tpr5_ckp]"
   ]
  },
  {
   "cell_type": "code",
   "execution_count": 334,
   "id": "7d0d39cd",
   "metadata": {},
   "outputs": [],
   "source": [
    "max_length_ckp = max(len(fprs) for fprs in fpr_list_ckp)"
   ]
  },
  {
   "cell_type": "code",
   "execution_count": 335,
   "id": "4cb461e3",
   "metadata": {},
   "outputs": [],
   "source": [
    "for i in range(0,5):\n",
    "    if len(fpr_list_ckp[i]) < max_length_ckp:\n",
    "        fpr_list_ckp[i] = np.pad(fpr_list_ckp[i], (0, max_length_ckp - len(fpr_list_ckp[i])), constant_values=1)"
   ]
  },
  {
   "cell_type": "code",
   "execution_count": 336,
   "id": "78362a07",
   "metadata": {},
   "outputs": [],
   "source": [
    "for i in range(0,5):\n",
    "    if len(tpr_list_ckp[i]) < max_length_ckp:\n",
    "        tpr_list_ckp[i] = np.pad(tpr_list_ckp[i], (0, max_length_ckp - len(tpr_list_ckp[i])), constant_values=1)"
   ]
  },
  {
   "cell_type": "code",
   "execution_count": 337,
   "id": "c546f200",
   "metadata": {},
   "outputs": [],
   "source": [
    "mean_fpr_ckp = np.mean(fpr_list_ckp, axis=0)\n",
    "mean_tpr_ckp = np.mean(tpr_list_ckp, axis=0)"
   ]
  },
  {
   "cell_type": "markdown",
   "id": "b380e71c",
   "metadata": {},
   "source": [
    "# DEFT"
   ]
  },
  {
   "cell_type": "code",
   "execution_count": 106,
   "id": "6243b254",
   "metadata": {},
   "outputs": [],
   "source": [
    "fpr1_deft, tpr1_deft, _ = roc_curve(deft.iloc[:,2], deft.iloc[:,1])\n",
    "fpr2_deft, tpr2_deft, _ = roc_curve(deft.iloc[:,4], deft.iloc[:,3])\n",
    "fpr3_deft, tpr3_deft, _ = roc_curve(deft.iloc[:,6], deft.iloc[:,5])\n",
    "fpr4_deft, tpr4_deft, _ = roc_curve(deft.iloc[:,8], deft.iloc[:,7])\n",
    "fpr5_deft, tpr5_deft, _ = roc_curve(deft.iloc[:,10], deft.iloc[:,9])"
   ]
  },
  {
   "cell_type": "code",
   "execution_count": 107,
   "id": "0b45d375",
   "metadata": {},
   "outputs": [],
   "source": [
    "fpr_list_deft = [fpr1_deft, fpr2_deft,fpr3_deft,fpr4_deft,fpr5_deft]\n",
    "tpr_list_deft = [tpr1_deft, tpr2_deft,tpr3_deft,tpr4_deft,tpr5_deft]\n",
    "# fnr_list = [fnr1, fnr2,fnr3,fnr4,fnr5]"
   ]
  },
  {
   "cell_type": "code",
   "execution_count": 108,
   "id": "fb250e84",
   "metadata": {},
   "outputs": [],
   "source": [
    "max_length_deft = max(len(fprs) for fprs in fpr_list_deft)"
   ]
  },
  {
   "cell_type": "code",
   "execution_count": 109,
   "id": "546dcca6",
   "metadata": {},
   "outputs": [],
   "source": [
    "for i in range(0,5):\n",
    "    if len(fpr_list_deft[i]) < max_length_deft:\n",
    "        fpr_list_deft[i] = np.pad(fpr_list_deft[i], (0, max_length_deft - len(fpr_list_deft[i])), constant_values=1)"
   ]
  },
  {
   "cell_type": "code",
   "execution_count": 110,
   "id": "63ac828a",
   "metadata": {},
   "outputs": [],
   "source": [
    "for i in range(0,5):\n",
    "    if len(tpr_list_deft[i]) < max_length_deft:\n",
    "        tpr_list_deft[i] = np.pad(tpr_list_deft[i], (0, max_length_deft - len(tpr_list_deft[i])), constant_values=1)"
   ]
  },
  {
   "cell_type": "code",
   "execution_count": 111,
   "id": "c91b9384",
   "metadata": {},
   "outputs": [],
   "source": [
    "mean_fpr_deft = np.mean(fpr_list_deft, axis=0)\n",
    "mean_tpr_deft = np.mean(tpr_list_deft, axis=0)"
   ]
  },
  {
   "cell_type": "code",
   "execution_count": null,
   "id": "c4fb39c7",
   "metadata": {},
   "outputs": [],
   "source": []
  },
  {
   "cell_type": "code",
   "execution_count": null,
   "id": "b101814f",
   "metadata": {},
   "outputs": [],
   "source": []
  },
  {
   "cell_type": "code",
   "execution_count": 338,
   "id": "e22fc1a7",
   "metadata": {},
   "outputs": [
    {
     "data": {
      "image/png": "[encoded data removed]",
      "text/plain": [
       "<Figure size 720x720 with 1 Axes>"
      ]
     },
     "metadata": {
      "needs_background": "light"
     },
     "output_type": "display_data"
    }
   ],
   "source": [
    "fig,ax = plt.subplots(figsize = (10,10))\n",
    "plt.plot(mean_fpr_nc,mean_tpr_nc)\n",
    "plt.plot(mean_fpr_temp,mean_tpr_temp)\n",
    "plt.plot(mean_fpr_nctemp,mean_tpr_nctemp )\n",
    "plt.plot(mean_fpr_ckp, mean_tpr_ckp)\n",
    "plt.plot(mean_fpr_deft, mean_tpr_deft)\n",
    "\n",
    "plt.plot([0, 1], [0, 1],'r--')\n",
    "plt.xlabel('False Positive Rate')\n",
    "plt.ylabel('True Positive Rate')\n",
    "\n",
    "plt.show()"
   ]
  },
  {
   "cell_type": "code",
   "execution_count": null,
   "id": "b1e61f5d",
   "metadata": {},
   "outputs": [],
   "source": []
  },
  {
   "cell_type": "markdown",
   "id": "cbacb371",
   "metadata": {},
   "source": [
    "# Mobile"
   ]
  },
  {
   "cell_type": "code",
   "execution_count": 228,
   "id": "cb5ea2ed",
   "metadata": {},
   "outputs": [],
   "source": [
    "nc_mob = pd.read_csv('C:/Users/s3929438/Probabilities_mobile_onlyNC.csv')\n",
    "temp_mob = pd.read_csv('C:/Users/s3929438/Probabilities_mobile_onlyTemp.csv')\n",
    "nctemp_mob = pd.read_csv('C:/Users/s3929438/Probabilities_mobile_NC_TEMP.csv')\n",
    "deft_mob = pd.read_csv('C:/Users/s3929438/Probabilities_XGboost_mobile.csv')\n",
    "ckp_mob = pd.read_csv('C:/Users/s3929438/Probabilities_mobile_without_deft.csv')"
   ]
  },
  {
   "cell_type": "markdown",
   "id": "669065ef",
   "metadata": {},
   "source": [
    "## NC"
   ]
  },
  {
   "cell_type": "code",
   "execution_count": 170,
   "id": "11477937",
   "metadata": {},
   "outputs": [],
   "source": [
    "fpr1_nc_mob, tpr1_nc_mob, _ = roc_curve(nc_mob.iloc[:,2], nc_mob.iloc[:,1])\n",
    "fpr2_nc_mob, tpr2_nc_mob, _ = roc_curve(nc_mob.iloc[:,4], nc_mob.iloc[:,3])\n",
    "fpr3_nc_mob, tpr3_nc_mob, _ = roc_curve(nc_mob.iloc[:,6], nc_mob.iloc[:,5])\n",
    "fpr4_nc_mob, tpr4_nc_mob, _ = roc_curve(nc_mob.iloc[:,8], nc_mob.iloc[:,7])\n",
    "fpr5_nc_mob, tpr5_nc_mob, _ = roc_curve(nc_mob.iloc[:,10], nc_mob.iloc[:,9])"
   ]
  },
  {
   "cell_type": "code",
   "execution_count": 171,
   "id": "bbfaf52f",
   "metadata": {},
   "outputs": [],
   "source": [
    "fpr_list_nc_mob = [fpr1_nc_mob, fpr2_nc_mob,fpr3_nc_mob,fpr4_nc_mob,fpr5_nc_mob]\n",
    "tpr_list_nc_mob = [tpr1_nc_mob, tpr2_nc_mob,tpr3_nc_mob,tpr4_nc_mob,tpr5_nc_mob]"
   ]
  },
  {
   "cell_type": "code",
   "execution_count": 172,
   "id": "b1245f47",
   "metadata": {},
   "outputs": [],
   "source": [
    "max_length_nc_mob = max(len(fprs) for fprs in fpr_list_nc_mob)"
   ]
  },
  {
   "cell_type": "code",
   "execution_count": 173,
   "id": "cfdc182b",
   "metadata": {},
   "outputs": [],
   "source": [
    "for i in range(0,5):\n",
    "    if len(fpr_list_nc_mob[i]) < max_length_nc_mob:\n",
    "        fpr_list_nc_mob[i] = np.pad(fpr_list_nc_mob[i], (0, max_length_nc_mob - len(fpr_list_nc_mob[i])), constant_values=1)"
   ]
  },
  {
   "cell_type": "code",
   "execution_count": 174,
   "id": "da41eac9",
   "metadata": {},
   "outputs": [],
   "source": [
    "for i in range(0,5):\n",
    "    if len(tpr_list_nc_mob[i]) < max_length_nc_mob:\n",
    "        tpr_list_nc_mob[i] = np.pad(tpr_list_nc_mob[i], (0, max_length_nc_mob - len(tpr_list_nc_mob[i])), constant_values=1)"
   ]
  },
  {
   "cell_type": "code",
   "execution_count": 175,
   "id": "280ae3ba",
   "metadata": {},
   "outputs": [],
   "source": [
    "mean_fpr_nc_mob = np.mean(fpr_list_nc_mob, axis=0)\n",
    "mean_tpr_nc_mob = np.mean(tpr_list_nc_mob, axis=0)"
   ]
  },
  {
   "cell_type": "code",
   "execution_count": null,
   "id": "4330f14b",
   "metadata": {},
   "outputs": [],
   "source": []
  },
  {
   "cell_type": "markdown",
   "id": "ecde713b",
   "metadata": {},
   "source": [
    "## TEMP"
   ]
  },
  {
   "cell_type": "code",
   "execution_count": 191,
   "id": "00b6213d",
   "metadata": {},
   "outputs": [],
   "source": [
    "fpr1_temp_mob, tpr1_temp_mob, _ = roc_curve(temp_mob.iloc[:,2], temp_mob.iloc[:,1])\n",
    "fpr2_temp_mob, tpr2_temp_mob, _ = roc_curve(temp_mob.iloc[:,4], temp_mob.iloc[:,3])\n",
    "fpr3_temp_mob, tpr3_temp_mob, _ = roc_curve(temp_mob.iloc[:,6], temp_mob.iloc[:,5])\n",
    "fpr4_temp_mob, tpr4_temp_mob, _ = roc_curve(temp_mob.iloc[:,8], temp_mob.iloc[:,7])\n",
    "fpr5_temp_mob, tpr5_temp_mob, _ = roc_curve(temp_mob.iloc[:,10], temp_mob.iloc[:,9])"
   ]
  },
  {
   "cell_type": "code",
   "execution_count": 192,
   "id": "949c7d79",
   "metadata": {},
   "outputs": [],
   "source": [
    "fpr_list_temp_mob = [fpr1_temp_mob, fpr2_temp_mob,fpr3_temp_mob,fpr4_temp_mob,fpr5_temp_mob]\n",
    "tpr_list_temp_mob = [tpr1_temp_mob, tpr2_temp_mob,tpr3_temp_mob,tpr4_temp_mob,tpr5_temp_mob]"
   ]
  },
  {
   "cell_type": "code",
   "execution_count": 193,
   "id": "b6896fc7",
   "metadata": {},
   "outputs": [],
   "source": [
    "max_length_temp_mob = max(len(fprs) for fprs in fpr_list_temp_mob)"
   ]
  },
  {
   "cell_type": "code",
   "execution_count": 194,
   "id": "4705f89d",
   "metadata": {},
   "outputs": [],
   "source": [
    "for i in range(0,5):\n",
    "    if len(fpr_list_temp_mob[i]) < max_length_temp_mob:\n",
    "        fpr_list_temp_mob[i] = np.pad(fpr_list_temp_mob[i], (0, max_length_temp_mob - len(fpr_list_temp_mob[i])), constant_values=1)"
   ]
  },
  {
   "cell_type": "code",
   "execution_count": 195,
   "id": "b6ad3cf3",
   "metadata": {},
   "outputs": [],
   "source": [
    "for i in range(0,5):\n",
    "    if len(tpr_list_temp_mob[i]) < max_length_temp_mob:\n",
    "        tpr_list_temp_mob[i] = np.pad(tpr_list_temp_mob[i], (0, max_length_temp_mob - len(tpr_list_temp_mob[i])), constant_values=1)"
   ]
  },
  {
   "cell_type": "code",
   "execution_count": 196,
   "id": "d70c6610",
   "metadata": {},
   "outputs": [],
   "source": [
    "mean_fpr_temp_mob = np.mean(fpr_list_temp_mob, axis=0)\n",
    "mean_tpr_temp_mob = np.mean(tpr_list_temp_mob, axis=0)"
   ]
  },
  {
   "cell_type": "code",
   "execution_count": null,
   "id": "a93acf18",
   "metadata": {},
   "outputs": [],
   "source": []
  },
  {
   "cell_type": "markdown",
   "id": "17ef77e5",
   "metadata": {},
   "source": [
    "## NC + TEMP"
   ]
  },
  {
   "cell_type": "code",
   "execution_count": 214,
   "id": "1092ae3a",
   "metadata": {},
   "outputs": [],
   "source": [
    "fpr1_nctemp_mob, tpr1_nctemp_mob, _ = roc_curve(nctemp_mob.iloc[:,2], nctemp_mob.iloc[:,1])\n",
    "fpr2_nctemp_mob, tpr2_nctemp_mob, _ = roc_curve(nctemp_mob.iloc[:,4], nctemp_mob.iloc[:,3])\n",
    "fpr3_nctemp_mob, tpr3_nctemp_mob, _ = roc_curve(nctemp_mob.iloc[:,6], nctemp_mob.iloc[:,5])\n",
    "fpr4_nctemp_mob, tpr4_nctemp_mob, _ = roc_curve(nctemp_mob.iloc[:,8], nctemp_mob.iloc[:,7])\n",
    "fpr5_nctemp_mob, tpr5_nctemp_mob, _ = roc_curve(nctemp_mob.iloc[:,10], nctemp_mob.iloc[:,9])"
   ]
  },
  {
   "cell_type": "code",
   "execution_count": 215,
   "id": "7165a18a",
   "metadata": {},
   "outputs": [],
   "source": [
    "fpr_list_nctemp_mob = [fpr1_nctemp_mob, fpr2_nctemp_mob,fpr3_nctemp_mob,fpr4_nctemp_mob,fpr5_nctemp_mob]\n",
    "tpr_list_nctemp_mob = [tpr1_nctemp_mob, tpr2_nctemp_mob,tpr3_nctemp_mob,tpr4_nctemp_mob,tpr5_nctemp_mob]"
   ]
  },
  {
   "cell_type": "code",
   "execution_count": 216,
   "id": "ba93f903",
   "metadata": {},
   "outputs": [],
   "source": [
    "max_length_nctemp_mob = max(len(fprs) for fprs in fpr_list_nctemp_mob)"
   ]
  },
  {
   "cell_type": "code",
   "execution_count": 217,
   "id": "098053c0",
   "metadata": {},
   "outputs": [],
   "source": [
    "for i in range(0,5):\n",
    "    if len(fpr_list_nctemp_mob[i]) < max_length_nctemp_mob:\n",
    "        fpr_list_nctemp_mob[i] = np.pad(fpr_list_nctemp_mob[i], (0, max_length_nctemp_mob - len(fpr_list_nctemp_mob[i])), constant_values=1)"
   ]
  },
  {
   "cell_type": "code",
   "execution_count": 218,
   "id": "9ebfb3f5",
   "metadata": {},
   "outputs": [],
   "source": [
    "for i in range(0,5):\n",
    "    if len(tpr_list_nctemp_mob[i]) < max_length_nctemp_mob:\n",
    "        tpr_list_nctemp_mob[i] = np.pad(tpr_list_nctemp_mob[i], (0, max_length_nctemp_mob - len(tpr_list_nctemp_mob[i])), constant_values=1)"
   ]
  },
  {
   "cell_type": "code",
   "execution_count": 219,
   "id": "74b7dbdb",
   "metadata": {},
   "outputs": [],
   "source": [
    "mean_fpr_nctemp_mob = np.mean(fpr_list_nctemp_mob, axis=0)\n",
    "mean_tpr_nctemp_mob = np.mean(tpr_list_nctemp_mob, axis=0)"
   ]
  },
  {
   "cell_type": "code",
   "execution_count": null,
   "id": "c0524666",
   "metadata": {},
   "outputs": [],
   "source": []
  },
  {
   "cell_type": "markdown",
   "id": "9ee0bfae",
   "metadata": {},
   "source": [
    "## CKP"
   ]
  },
  {
   "cell_type": "code",
   "execution_count": 229,
   "id": "8db3f23e",
   "metadata": {},
   "outputs": [],
   "source": [
    "fpr1_ckp_mob, tpr1_ckp_mob, _ = roc_curve(ckp_mob.iloc[:,2], ckp_mob.iloc[:,1])\n",
    "fpr2_ckp_mob, tpr2_ckp_mob, _ = roc_curve(ckp_mob.iloc[:,4], ckp_mob.iloc[:,3])\n",
    "fpr3_ckp_mob, tpr3_ckp_mob, _ = roc_curve(ckp_mob.iloc[:,6], ckp_mob.iloc[:,5])\n",
    "fpr4_ckp_mob, tpr4_ckp_mob, _ = roc_curve(ckp_mob.iloc[:,8], ckp_mob.iloc[:,7])\n",
    "fpr5_ckp_mob, tpr5_ckp_mob, _ = roc_curve(ckp_mob.iloc[:,10], ckp_mob.iloc[:,9])"
   ]
  },
  {
   "cell_type": "code",
   "execution_count": 230,
   "id": "2e78665d",
   "metadata": {},
   "outputs": [],
   "source": [
    "fpr_list_ckp_mob = [fpr1_ckp_mob, fpr2_ckp_mob,fpr3_ckp_mob,fpr4_ckp_mob,fpr5_ckp_mob]\n",
    "tpr_list_ckp_mob = [tpr1_ckp_mob, tpr2_ckp_mob,tpr3_ckp_mob,tpr4_ckp_mob,tpr5_ckp_mob]"
   ]
  },
  {
   "cell_type": "code",
   "execution_count": 231,
   "id": "2b8cb847",
   "metadata": {},
   "outputs": [],
   "source": [
    "max_length_ckp_mob = max(len(fprs) for fprs in fpr_list_ckp_mob)"
   ]
  },
  {
   "cell_type": "code",
   "execution_count": 232,
   "id": "e3848173",
   "metadata": {},
   "outputs": [],
   "source": [
    "for i in range(0,5):\n",
    "    if len(fpr_list_ckp_mob[i]) < max_length_ckp_mob:\n",
    "        fpr_list_ckp_mob[i] = np.pad(fpr_list_ckp_mob[i], (0, max_length_ckp_mob - len(fpr_list_ckp_mob[i])), constant_values=1)"
   ]
  },
  {
   "cell_type": "code",
   "execution_count": 233,
   "id": "f8c968d4",
   "metadata": {},
   "outputs": [],
   "source": [
    "for i in range(0,5):\n",
    "    if len(tpr_list_ckp_mob[i]) < max_length_ckp_mob:\n",
    "        tpr_list_ckp_mob[i] = np.pad(tpr_list_ckp_mob[i], (0, max_length_ckp_mob - len(tpr_list_ckp_mob[i])), constant_values=1)"
   ]
  },
  {
   "cell_type": "code",
   "execution_count": 234,
   "id": "038a58cc",
   "metadata": {},
   "outputs": [],
   "source": [
    "mean_fpr_ckp_mob = np.mean(fpr_list_ckp_mob, axis=0)\n",
    "mean_tpr_ckp_mob = np.mean(tpr_list_ckp_mob, axis=0)"
   ]
  },
  {
   "cell_type": "markdown",
   "id": "f5f34505",
   "metadata": {},
   "source": [
    "## DEFT"
   ]
  },
  {
   "cell_type": "code",
   "execution_count": 198,
   "id": "b68b58eb",
   "metadata": {},
   "outputs": [],
   "source": [
    "fpr1_deft_mob, tpr1_deft_mob, _ = roc_curve(deft_mob.iloc[:,2], deft_mob.iloc[:,1])\n",
    "fpr2_deft_mob, tpr2_deft_mob, _ = roc_curve(deft_mob.iloc[:,4], deft_mob.iloc[:,3])\n",
    "fpr3_deft_mob, tpr3_deft_mob, _ = roc_curve(deft_mob.iloc[:,6], deft_mob.iloc[:,5])\n",
    "fpr4_deft_mob, tpr4_deft_mob, _ = roc_curve(deft_mob.iloc[:,8], deft_mob.iloc[:,7])\n",
    "fpr5_deft_mob, tpr5_deft_mob, _ = roc_curve(deft_mob.iloc[:,10], deft_mob.iloc[:,9])"
   ]
  },
  {
   "cell_type": "code",
   "execution_count": 199,
   "id": "df28fafb",
   "metadata": {},
   "outputs": [],
   "source": [
    "fpr_list_deft_mob = [fpr1_deft_mob, fpr2_deft_mob,fpr3_deft_mob,fpr4_deft_mob,fpr5_deft_mob]\n",
    "tpr_list_deft_mob = [tpr1_deft_mob, tpr1_deft_mob,tpr1_deft_mob,tpr1_deft_mob,tpr1_deft_mob]"
   ]
  },
  {
   "cell_type": "code",
   "execution_count": 200,
   "id": "0c953365",
   "metadata": {},
   "outputs": [],
   "source": [
    "max_length_deft_mob = max(len(fprs) for fprs in fpr_list_deft_mob)"
   ]
  },
  {
   "cell_type": "code",
   "execution_count": 201,
   "id": "26b6ae72",
   "metadata": {},
   "outputs": [],
   "source": [
    "for i in range(0,5):\n",
    "    if len(fpr_list_deft_mob[i]) < max_length_deft_mob:\n",
    "        fpr_list_deft_mob[i] = np.pad(fpr_list_deft_mob[i], (0, max_length_deft_mob - len(fpr_list_deft_mob[i])), constant_values=1)"
   ]
  },
  {
   "cell_type": "code",
   "execution_count": 202,
   "id": "c789ff56",
   "metadata": {},
   "outputs": [],
   "source": [
    "for i in range(0,5):\n",
    "    if len(tpr_list_deft_mob[i]) < max_length_deft_mob:\n",
    "        tpr_list_deft_mob[i] = np.pad(tpr_list_deft_mob[i], (0, max_length_deft_mob - len(tpr_list_deft_mob[i])), constant_values=1)"
   ]
  },
  {
   "cell_type": "code",
   "execution_count": 203,
   "id": "362ce389",
   "metadata": {},
   "outputs": [],
   "source": [
    "mean_fpr_deft_mob = np.mean(fpr_list_deft_mob, axis=0)\n",
    "mean_tpr_deft_mob = np.mean(tpr_list_deft_mob, axis=0)"
   ]
  },
  {
   "cell_type": "code",
   "execution_count": 235,
   "id": "6b5b77d4",
   "metadata": {},
   "outputs": [
    {
     "data": {
      "image/png": "[encoded data removed]",
      "text/plain": [
       "<Figure size 720x720 with 1 Axes>"
      ]
     },
     "metadata": {
      "needs_background": "light"
     },
     "output_type": "display_data"
    }
   ],
   "source": [
    "fig,ax = plt.subplots(figsize = (10,10))\n",
    "plt.plot(mean_fpr_nc_mob,mean_tpr_nc_mob)\n",
    "plt.plot(mean_fpr_temp_mob,mean_tpr_temp_mob)\n",
    "plt.plot(mean_fpr_nctemp_mob,mean_tpr_nctemp_mob )\n",
    "plt.plot(mean_fpr_ckp_mob, mean_tpr_ckp_mob)\n",
    "plt.plot(mean_fpr_deft_mob, mean_tpr_deft_mob)\n",
    "\n",
    "plt.plot([0, 1], [0, 1],'r--')\n",
    "plt.xlabel('False Positive Rate')\n",
    "plt.ylabel('True Positive Rate')\n",
    "\n",
    "plt.show()"
   ]
  },
  {
   "cell_type": "code",
   "execution_count": null,
   "id": "790d4e98",
   "metadata": {},
   "outputs": [],
   "source": []
  },
  {
   "cell_type": "markdown",
   "id": "a7f28e63",
   "metadata": {},
   "source": [
    "# Tablet"
   ]
  },
  {
   "cell_type": "code",
   "execution_count": 299,
   "id": "d8b704c3",
   "metadata": {},
   "outputs": [],
   "source": [
    "nc_tab = pd.read_csv('C:/Users/s3929438/Probabilities_tablet_onlyNC.csv')\n",
    "temp_tab = pd.read_csv('C:/Users/s3929438/Probabilities_tablet_onlyTemp.csv')\n",
    "nctemp_tab = pd.read_csv('C:/Users/s3929438/Probabilities_tablet_NC_TEMP.csv')\n",
    "deft_tab = pd.read_csv('C:/Users/s3929438/Probabilities_XGboost_tablet.csv')\n",
    "ckp_tab = pd.read_csv('C:/Users/s3929438/Probabilities_tablet_without_deft.csv')"
   ]
  },
  {
   "cell_type": "markdown",
   "id": "fdafde7a",
   "metadata": {},
   "source": [
    "## NC"
   ]
  },
  {
   "cell_type": "code",
   "execution_count": 245,
   "id": "a5800d04",
   "metadata": {},
   "outputs": [],
   "source": [
    "fpr1_nc_tab, tpr1_nc_tab, _ = roc_curve(nc_tab.iloc[:,2], nc_tab.iloc[:,1])\n",
    "fpr2_nc_tab, tpr2_nc_tab, _ = roc_curve(nc_tab.iloc[:,4], nc_tab.iloc[:,3])\n",
    "fpr3_nc_tab, tpr3_nc_tab, _ = roc_curve(nc_tab.iloc[:,6], nc_tab.iloc[:,5])\n",
    "fpr4_nc_tab, tpr4_nc_tab, _ = roc_curve(nc_tab.iloc[:,8], nc_tab.iloc[:,7])\n",
    "fpr5_nc_tab, tpr5_nc_tab, _ = roc_curve(nc_tab.iloc[:,10], nc_tab.iloc[:,9])"
   ]
  },
  {
   "cell_type": "code",
   "execution_count": 246,
   "id": "9b387e75",
   "metadata": {},
   "outputs": [],
   "source": [
    "fpr_list_nc_tab = [fpr1_nc_tab, fpr2_nc_tab,fpr3_nc_tab,fpr4_nc_tab,fpr5_nc_tab]\n",
    "tpr_list_nc_tab = [tpr1_nc_tab, tpr2_nc_tab,tpr3_nc_tab,tpr4_nc_tab,tpr5_nc_tab]"
   ]
  },
  {
   "cell_type": "code",
   "execution_count": 247,
   "id": "a5a0a8c6",
   "metadata": {},
   "outputs": [],
   "source": [
    "max_length_nc_tab = max(len(fprs) for fprs in fpr_list_nc_tab)"
   ]
  },
  {
   "cell_type": "code",
   "execution_count": 248,
   "id": "a52bb921",
   "metadata": {},
   "outputs": [],
   "source": [
    "for i in range(0,5):\n",
    "    if len(fpr_list_nc_tab[i]) < max_length_nc_tab:\n",
    "        fpr_list_nc_tab[i] = np.pad(fpr_list_nc_tab[i], (0, max_length_nc_tab - len(fpr_list_nc_tab[i])), constant_values=1)"
   ]
  },
  {
   "cell_type": "code",
   "execution_count": 249,
   "id": "268eef5b",
   "metadata": {},
   "outputs": [],
   "source": [
    "for i in range(0,5):\n",
    "    if len(tpr_list_nc_tab[i]) < max_length_nc_tab:\n",
    "        tpr_list_nc_tab[i] = np.pad(tpr_list_nc_tab[i], (0, max_length_nc_tab - len(tpr_list_nc_tab[i])), constant_values=1)"
   ]
  },
  {
   "cell_type": "code",
   "execution_count": 250,
   "id": "d9d75995",
   "metadata": {},
   "outputs": [],
   "source": [
    "mean_fpr_nc_tab = np.mean(fpr_list_nc_tab, axis=0)\n",
    "mean_tpr_nc_tab = np.mean(tpr_list_nc_tab, axis=0)"
   ]
  },
  {
   "cell_type": "code",
   "execution_count": null,
   "id": "611a7910",
   "metadata": {},
   "outputs": [],
   "source": []
  },
  {
   "cell_type": "markdown",
   "id": "68777672",
   "metadata": {},
   "source": [
    "## TEMP"
   ]
  },
  {
   "cell_type": "code",
   "execution_count": 268,
   "id": "ecae0a2c",
   "metadata": {},
   "outputs": [],
   "source": [
    "fpr1_temp_tab, tpr1_temp_tab, _ = roc_curve(temp_tab.iloc[:,2], temp_tab.iloc[:,1])\n",
    "fpr2_temp_tab, tpr2_temp_tab, _ = roc_curve(temp_tab.iloc[:,4], temp_tab.iloc[:,3])\n",
    "fpr3_temp_tab, tpr3_temp_tab, _ = roc_curve(temp_tab.iloc[:,6], temp_tab.iloc[:,5])\n",
    "fpr4_temp_tab, tpr4_temp_tab, _ = roc_curve(temp_tab.iloc[:,8], temp_tab.iloc[:,7])\n",
    "fpr5_temp_tab, tpr5_temp_tab, _ = roc_curve(temp_tab.iloc[:,10], temp_tab.iloc[:,9])"
   ]
  },
  {
   "cell_type": "code",
   "execution_count": 269,
   "id": "305d1710",
   "metadata": {},
   "outputs": [],
   "source": [
    "fpr_list_temp_tab = [fpr1_temp_tab, fpr2_temp_tab,fpr3_temp_tab,fpr4_temp_tab,fpr5_temp_tab]\n",
    "tpr_list_temp_tab = [tpr1_temp_tab, tpr2_temp_tab,tpr3_temp_tab,tpr4_temp_tab,tpr5_temp_tab]"
   ]
  },
  {
   "cell_type": "code",
   "execution_count": 270,
   "id": "81313c26",
   "metadata": {},
   "outputs": [],
   "source": [
    "max_length_temp_tab = max(len(fprs) for fprs in fpr_list_temp_tab)"
   ]
  },
  {
   "cell_type": "code",
   "execution_count": 271,
   "id": "c3e5cae2",
   "metadata": {},
   "outputs": [],
   "source": [
    "for i in range(0,5):\n",
    "    if len(fpr_list_temp_tab[i]) < max_length_temp_tab:\n",
    "        fpr_list_temp_tab[i] = np.pad(fpr_list_temp_tab[i], (0, max_length_temp_tab - len(fpr_list_temp_tab[i])), constant_values=1)"
   ]
  },
  {
   "cell_type": "code",
   "execution_count": 272,
   "id": "a0deee8b",
   "metadata": {},
   "outputs": [],
   "source": [
    "for i in range(0,5):\n",
    "    if len(tpr_list_temp_tab[i]) < max_length_temp_tab:\n",
    "        tpr_list_temp_tab[i] = np.pad(tpr_list_temp_tab[i], (0, max_length_temp_tab - len(tpr_list_temp_tab[i])), constant_values=1)"
   ]
  },
  {
   "cell_type": "code",
   "execution_count": 273,
   "id": "8501b8e9",
   "metadata": {},
   "outputs": [],
   "source": [
    "mean_fpr_temp_tab = np.mean(fpr_list_temp_tab, axis=0)\n",
    "mean_tpr_temp_tab = np.mean(tpr_list_temp_tab, axis=0)"
   ]
  },
  {
   "cell_type": "code",
   "execution_count": null,
   "id": "d52971d4",
   "metadata": {},
   "outputs": [],
   "source": []
  },
  {
   "cell_type": "markdown",
   "id": "a3f5fa80",
   "metadata": {},
   "source": [
    "# NC +TEMP"
   ]
  },
  {
   "cell_type": "code",
   "execution_count": 284,
   "id": "51bc262c",
   "metadata": {},
   "outputs": [],
   "source": [
    "fpr1_nctemp_tab, tpr1_nctemp_tab, _ = roc_curve(nctemp_tab.iloc[:,2], nctemp_tab.iloc[:,1])\n",
    "fpr2_nctemp_tab, tpr2_nctemp_tab, _ = roc_curve(nctemp_tab.iloc[:,4], nctemp_tab.iloc[:,3])\n",
    "fpr3_nctemp_tab, tpr3_nctemp_tab, _ = roc_curve(nctemp_tab.iloc[:,6], nctemp_tab.iloc[:,5])\n",
    "fpr4_nctemp_tab, tpr4_nctemp_tab, _ = roc_curve(nctemp_tab.iloc[:,8], nctemp_tab.iloc[:,7])\n",
    "fpr5_nctemp_tab, tpr5_nctemp_tab, _ = roc_curve(nctemp_tab.iloc[:,10], nctemp_tab.iloc[:,9])"
   ]
  },
  {
   "cell_type": "code",
   "execution_count": 285,
   "id": "463464e0",
   "metadata": {},
   "outputs": [],
   "source": [
    "fpr_list_nctemp_tab = [fpr1_nctemp_tab, fpr2_nctemp_tab,fpr3_nctemp_tab,fpr4_nctemp_tab,fpr5_nctemp_tab]\n",
    "tpr_list_nctemp_tab = [tpr1_nctemp_tab, tpr2_nctemp_tab,tpr3_nctemp_tab,tpr4_nctemp_tab,tpr5_nctemp_tab]"
   ]
  },
  {
   "cell_type": "code",
   "execution_count": 286,
   "id": "54549fc3",
   "metadata": {},
   "outputs": [],
   "source": [
    "max_length_nctemp_tab = max(len(fprs) for fprs in fpr_list_nctemp_tab)"
   ]
  },
  {
   "cell_type": "code",
   "execution_count": 287,
   "id": "a58646c1",
   "metadata": {},
   "outputs": [],
   "source": [
    "for i in range(0,5):\n",
    "    if len(fpr_list_nctemp_tab[i]) < max_length_nctemp_tab:\n",
    "        fpr_list_nctemp_tab[i] = np.pad(fpr_list_nctemp_tab[i], (0, max_length_nctemp_tab - len(fpr_list_nctemp_tab[i])), constant_values=1)"
   ]
  },
  {
   "cell_type": "code",
   "execution_count": 288,
   "id": "3b7801a4",
   "metadata": {},
   "outputs": [],
   "source": [
    "for i in range(0,5):\n",
    "    if len(tpr_list_nctemp_tab[i]) < max_length_nctemp_tab:\n",
    "        tpr_list_nctemp_tab[i] = np.pad(tpr_list_nctemp_tab[i], (0, max_length_nctemp_tab - len(tpr_list_nctemp_tab[i])), constant_values=1)"
   ]
  },
  {
   "cell_type": "code",
   "execution_count": 289,
   "id": "5fcd7f72",
   "metadata": {},
   "outputs": [],
   "source": [
    "mean_fpr_nctemp_tab = np.mean(fpr_list_nctemp_tab, axis=0)\n",
    "mean_tpr_nctemp_tab = np.mean(tpr_list_nctemp_tab, axis=0)"
   ]
  },
  {
   "cell_type": "code",
   "execution_count": null,
   "id": "ff0f62de",
   "metadata": {},
   "outputs": [],
   "source": []
  },
  {
   "cell_type": "markdown",
   "id": "cbe149a7",
   "metadata": {},
   "source": [
    "## CKP"
   ]
  },
  {
   "cell_type": "code",
   "execution_count": 300,
   "id": "32e4ba84",
   "metadata": {},
   "outputs": [],
   "source": [
    "fpr1_ckp_tab, tpr1_ckp_tab, _ = roc_curve(ckp_tab.iloc[:,2], ckp_tab.iloc[:,1])\n",
    "fpr2_ckp_tab, tpr2_ckp_tab, _ = roc_curve(ckp_tab.iloc[:,4], ckp_tab.iloc[:,3])\n",
    "fpr3_ckp_tab, tpr3_ckp_tab, _ = roc_curve(ckp_tab.iloc[:,6], ckp_tab.iloc[:,5])\n",
    "fpr4_ckp_tab, tpr4_ckp_tab, _ = roc_curve(ckp_tab.iloc[:,8], ckp_tab.iloc[:,7])\n",
    "fpr5_ckp_tab, tpr5_ckp_tab, _ = roc_curve(ckp_tab.iloc[:,10], ckp_tab.iloc[:,9])"
   ]
  },
  {
   "cell_type": "code",
   "execution_count": 301,
   "id": "f8c39a51",
   "metadata": {},
   "outputs": [],
   "source": [
    "fpr_list_ckp_tab = [fpr1_ckp_tab, fpr2_ckp_tab,fpr3_ckp_tab,fpr4_ckp_tab,fpr5_ckp_tab]\n",
    "tpr_list_ckp_tab = [tpr1_ckp_tab, tpr2_ckp_tab,tpr3_ckp_tab,tpr4_ckp_tab,tpr5_ckp_tab]"
   ]
  },
  {
   "cell_type": "code",
   "execution_count": 302,
   "id": "63111ce4",
   "metadata": {},
   "outputs": [],
   "source": [
    "max_length_ckp_tab = max(len(fprs) for fprs in fpr_list_ckp_tab)"
   ]
  },
  {
   "cell_type": "code",
   "execution_count": 303,
   "id": "3340ca21",
   "metadata": {},
   "outputs": [],
   "source": [
    "for i in range(0,5):\n",
    "    if len(fpr_list_ckp_tab[i]) < max_length_ckp_tab:\n",
    "        fpr_list_ckp_tab[i] = np.pad(fpr_list_ckp_tab[i], (0, max_length_ckp_tab - len(fpr_list_ckp_tab[i])), constant_values=1)"
   ]
  },
  {
   "cell_type": "code",
   "execution_count": 304,
   "id": "57eadedb",
   "metadata": {},
   "outputs": [],
   "source": [
    "for i in range(0,5):\n",
    "    if len(tpr_list_ckp_tab[i]) < max_length_ckp_tab:\n",
    "        tpr_list_ckp_tab[i] = np.pad(tpr_list_ckp_tab[i], (0, max_length_ckp_tab - len(tpr_list_ckp_tab[i])), constant_values=1)"
   ]
  },
  {
   "cell_type": "code",
   "execution_count": 305,
   "id": "6b23446c",
   "metadata": {},
   "outputs": [],
   "source": [
    "mean_fpr_ckp_tab = np.mean(fpr_list_ckp_tab, axis=0)\n",
    "mean_tpr_ckp_tab = np.mean(tpr_list_ckp_tab, axis=0)"
   ]
  },
  {
   "cell_type": "code",
   "execution_count": null,
   "id": "be7a7dca",
   "metadata": {},
   "outputs": [],
   "source": []
  },
  {
   "cell_type": "markdown",
   "id": "67bb1bd1",
   "metadata": {},
   "source": [
    "## DEFT"
   ]
  },
  {
   "cell_type": "code",
   "execution_count": 251,
   "id": "c2ec01f6",
   "metadata": {},
   "outputs": [],
   "source": [
    "fpr1_deft_tab, tpr1_deft_tab, _ = roc_curve(deft_tab.iloc[:,2], deft_tab.iloc[:,1])\n",
    "fpr2_deft_tab, tpr2_deft_tab, _ = roc_curve(deft_tab.iloc[:,4], deft_tab.iloc[:,3])\n",
    "fpr3_deft_tab, tpr3_deft_tab, _ = roc_curve(deft_tab.iloc[:,6], deft_tab.iloc[:,5])\n",
    "fpr4_deft_tab, tpr4_deft_tab, _ = roc_curve(deft_tab.iloc[:,8], deft_tab.iloc[:,7])\n",
    "fpr5_deft_tab, tpr5_deft_tab, _ = roc_curve(deft_tab.iloc[:,10], deft_tab.iloc[:,9])"
   ]
  },
  {
   "cell_type": "code",
   "execution_count": 252,
   "id": "22fd624e",
   "metadata": {},
   "outputs": [],
   "source": [
    "fpr_list_deft_tab = [fpr1_deft_tab, fpr2_deft_tab,fpr3_deft_tab,fpr4_deft_tab,fpr5_deft_tab]\n",
    "tpr_list_deft_tab = [tpr1_deft_tab, tpr2_deft_tab,tpr3_deft_tab,tpr4_deft_tab,tpr5_deft_tab]"
   ]
  },
  {
   "cell_type": "code",
   "execution_count": 253,
   "id": "e6113d45",
   "metadata": {},
   "outputs": [],
   "source": [
    "max_length_deft_tab = max(len(fprs) for fprs in fpr_list_deft_tab)"
   ]
  },
  {
   "cell_type": "code",
   "execution_count": 254,
   "id": "e4f1f188",
   "metadata": {},
   "outputs": [],
   "source": [
    "for i in range(0,5):\n",
    "    if len(fpr_list_deft_tab[i]) < max_length_deft_tab:\n",
    "        fpr_list_deft_tab[i] = np.pad(fpr_list_deft_tab[i], (0, max_length_deft_tab - len(fpr_list_deft_tab[i])), constant_values=1)"
   ]
  },
  {
   "cell_type": "code",
   "execution_count": 255,
   "id": "3cb27a5c",
   "metadata": {},
   "outputs": [],
   "source": [
    "for i in range(0,5):\n",
    "    if len(tpr_list_deft_tab[i]) < max_length_deft_tab:\n",
    "        tpr_list_deft_tab[i] = np.pad(tpr_list_deft_tab[i], (0, max_length_deft_tab - len(tpr_list_deft_tab[i])), constant_values=1)"
   ]
  },
  {
   "cell_type": "code",
   "execution_count": 256,
   "id": "87da3267",
   "metadata": {},
   "outputs": [],
   "source": [
    "mean_fpr_deft_tab = np.mean(fpr_list_deft_tab, axis=0)\n",
    "mean_tpr_deft_tab = np.mean(tpr_list_deft_tab, axis=0)"
   ]
  },
  {
   "cell_type": "code",
   "execution_count": 306,
   "id": "90e67c23",
   "metadata": {},
   "outputs": [
    {
     "data": {
      "image/png": "[encoded data removed]",
      "text/plain": [
       "<Figure size 720x720 with 1 Axes>"
      ]
     },
     "metadata": {
      "needs_background": "light"
     },
     "output_type": "display_data"
    }
   ],
   "source": [
    "fig,ax = plt.subplots(figsize = (10,10))\n",
    "plt.plot(mean_fpr_nc_tab,mean_tpr_nc_tab)\n",
    "plt.plot(mean_fpr_temp_tab,mean_tpr_temp_tab)\n",
    "plt.plot(mean_fpr_nctemp_tab,mean_tpr_nctemp_tab )\n",
    "plt.plot(mean_fpr_ckp_tab, mean_tpr_ckp_tab)\n",
    "plt.plot(mean_fpr_deft_tab, mean_tpr_deft_tab)\n",
    "\n",
    "plt.plot([0, 1], [0, 1],'r--')\n",
    "plt.xlabel('False Positive Rate')\n",
    "plt.ylabel('True Positive Rate')\n",
    "\n",
    "plt.show()"
   ]
  },
  {
   "cell_type": "code",
   "execution_count": 311,
   "id": "54aa0a89",
   "metadata": {},
   "outputs": [],
   "source": [
    "def custom_format(x, pos):\n",
    "    return f'{x*100:.0f}'"
   ]
  },
  {
   "cell_type": "code",
   "execution_count": 344,
   "id": "c5dc3f86",
   "metadata": {},
   "outputs": [
    {
     "data": {
      "image/png": "[encoded data removed]",
      "text/plain": [
       "<Figure size 1080x360 with 3 Axes>"
      ]
     },
     "metadata": {
      "needs_background": "light"
     },
     "output_type": "display_data"
    }
   ],
   "source": [
    "fig,(ax1,ax2,ax3) = plt.subplots(1,3,figsize = (15,5))\n",
    "\n",
    "ax1.plot(mean_fpr_nc,mean_tpr_nc, color = '#FD151B', linewidth=2)\n",
    "ax1.plot(mean_fpr_temp,mean_tpr_temp, color = '#EFFD5F', linewidth=2)\n",
    "ax1.plot(mean_fpr_nctemp,mean_tpr_nctemp, color = '#ff7700', linewidth=2)\n",
    "ax1.plot(mean_fpr_ckp, mean_tpr_ckp, color = '#01295F', linewidth=2)\n",
    "ax1.plot(mean_fpr_deft, mean_tpr_deft, color = 'olivedrab', linewidth=2)\n",
    "ax1.plot([0, 1], [0, 1],color='black', linestyle='dotted')\n",
    "\n",
    "ax1.set_title('Desktop', fontsize = 15)\n",
    "ax1.set_xlabel('False Positive Rate', fontsize = 12, labelpad=6)\n",
    "ax1.set_ylabel('True Positive Rate', fontsize = 12, labelpad=2)\n",
    "ax1.yaxis.set_major_formatter(ticker.FuncFormatter(custom_format))\n",
    "ax1.xaxis.set_major_formatter(ticker.FuncFormatter(custom_format))\n",
    "ax1.set_facecolor('gainsboro')\n",
    "line1_patch = mpatches.Patch(color='#FD151B', label='NC')\n",
    "line2_patch = mpatches.Patch(color='#EFFD5F', label='TEMP')\n",
    "line3_patch = mpatches.Patch(color='#ff7700', label='TEMP+NC')\n",
    "line4_patch = mpatches.Patch(color='#01295F', label='TEMP+NC+CKP')\n",
    "line5_patch = mpatches.Patch(color='olivedrab', label='TEMP+NC+CKP+DEFT')\n",
    "\n",
    "legend1 = ax1.legend(handles=[line1_patch, line2_patch, line3_patch, line4_patch, line5_patch],title='Feature Combinations',ncol=1,fontsize=12, loc = 'lower right',edgecolor='black')\n",
    "legend1.get_title().set_fontsize('14')\n",
    "\n",
    "\n",
    "ax2.plot(mean_fpr_nc_mob,mean_tpr_nc_mob, color = '#FD151B', linewidth=2)\n",
    "ax2.plot(mean_fpr_temp_mob,mean_tpr_temp_mob, color = '#EFFD5F', linewidth=2)\n",
    "ax2.plot(mean_fpr_nctemp_mob,mean_tpr_nctemp_mob, color = '#ff7700', linewidth=2 )\n",
    "ax2.plot(mean_fpr_ckp_mob, mean_tpr_ckp_mob, color = '#01295F', linewidth=2)\n",
    "ax2.plot(mean_fpr_deft_mob, mean_tpr_deft_mob, color = 'olivedrab', linewidth=2)\n",
    "ax2.plot([0, 1], [0, 1],color='black', linestyle='dotted')\n",
    "\n",
    "ax2.set_title('Mobile', fontsize=15)\n",
    "ax2.set_xlabel('False Positive Rate',fontsize = 12, labelpad=6)\n",
    "ax2.set_ylabel('True Positive Rate', fontsize = 12, labelpad=2)\n",
    "ax2.yaxis.set_major_formatter(ticker.FuncFormatter(custom_format))\n",
    "ax2.xaxis.set_major_formatter(ticker.FuncFormatter(custom_format))\n",
    "ax2.set_facecolor('gainsboro')\n",
    "line6_patch = mpatches.Patch(color='#FD151B', label='NC')\n",
    "line7_patch = mpatches.Patch(color='#EFFD5F', label='TEMP')\n",
    "line8_patch = mpatches.Patch(color='#ff7700', label='TEMP+NC')\n",
    "line9_patch = mpatches.Patch(color='#01295F', label='TEMP+NC+CKP')\n",
    "line10_patch = mpatches.Patch(color='olivedrab', label='TEMP+NC+CKP+DEFT')\n",
    "\n",
    "legend2 = ax2.legend(handles=[line6_patch, line7_patch, line8_patch, line9_patch, line10_patch],title='Feature Combinations',ncol=1,fontsize=12, loc = 'lower right',edgecolor='black')\n",
    "legend2.get_title().set_fontsize('14')\n",
    "\n",
    "\n",
    "ax3.plot(mean_fpr_nc_tab,mean_tpr_nc_tab, color = '#FD151B', linewidth=2)\n",
    "ax3.plot(mean_fpr_temp_tab,mean_tpr_temp_tab, color = '#EFFD5F', linewidth=2)\n",
    "ax3.plot(mean_fpr_nctemp_tab,mean_tpr_nctemp_tab,color = '#ff7700', linewidth=2 )\n",
    "ax3.plot(mean_fpr_ckp_tab, mean_tpr_ckp_tab, color = '#01295F', linewidth=2)\n",
    "ax3.plot(mean_fpr_deft_tab, mean_tpr_deft_tab, color = 'olivedrab', linewidth=2)\n",
    "ax3.plot([0, 1], [0, 1],color='black', linestyle='dotted')\n",
    "\n",
    "ax3.set_title('Tablet',fontsize = 15 )\n",
    "ax3.set_xlabel('False Positive Rate', fontsize = 12, labelpad=6)\n",
    "ax3.set_ylabel('True Positive Rate', fontsize = 12, labelpad=2)\n",
    "ax3.yaxis.set_major_formatter(ticker.FuncFormatter(custom_format))\n",
    "ax3.xaxis.set_major_formatter(ticker.FuncFormatter(custom_format))\n",
    "ax3.set_facecolor('gainsboro')\n",
    "\n",
    "line11_patch = mpatches.Patch(color='#FD151B', label='NC')\n",
    "line12_patch = mpatches.Patch(color='#EFFD5F', label='TEMP')\n",
    "line13_patch = mpatches.Patch(color='#ff7700', label='TEMP+NC')\n",
    "line14_patch = mpatches.Patch(color='#01295F', label='TEMP+NC+CKP')\n",
    "line15_patch = mpatches.Patch(color='olivedrab', label='TEMP+NC+CKP+DEFT')\n",
    "\n",
    "legend3 = ax3.legend(handles=[line11_patch, line12_patch, line13_patch, line14_patch, line15_patch],title='Feature Combinations',ncol=1,fontsize=12, loc = 'lower right',edgecolor='black')\n",
    "legend3.get_title().set_fontsize('14')\n",
    "\n",
    "\n",
    "plt.savefig('ROC_for_comparision_feature_steps.png')\n",
    "plt.show()"
   ]
  },
  {
   "cell_type": "code",
   "execution_count": null,
   "id": "edce5e84",
   "metadata": {},
   "outputs": [],
   "source": []
  }
 ],
 "metadata": {
  "kernelspec": {
   "display_name": "Python 3 (ipykernel)",
   "language": "python",
   "name": "python3"
  },
  "language_info": {
   "codemirror_mode": {
    "name": "ipython",
    "version": 3
   },
   "file_extension": ".py",
   "mimetype": "text/x-python",
   "name": "python",
   "nbconvert_exporter": "python",
   "pygments_lexer": "ipython3",
   "version": "3.9.7"
  }
 },
 "nbformat": 4,
 "nbformat_minor": 5
}
