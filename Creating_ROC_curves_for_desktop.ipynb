{
 "cells": [
  {
   "cell_type": "code",
   "execution_count": 1,
   "id": "bedaa9b9",
   "metadata": {},
   "outputs": [],
   "source": [
    "import pandas as pd\n",
    "import numpy as np\n",
    "import xgboost as xgb\n",
    "from imblearn.over_sampling import ADASYN\n",
    "from imblearn.over_sampling import SMOTE\n",
    "from imblearn.under_sampling import RandomUnderSampler\n",
    "from collections import Counter\n",
    "from sklearn import metrics\n",
    "from sklearn.preprocessing import StandardScaler\n",
    "from sklearn.metrics import classification_report, confusion_matrix, roc_curve, roc_auc_score\n",
    "from sklearn.ensemble import RandomForestClassifier\n",
    "from sklearn.svm import SVC\n",
    "from sklearn.naive_bayes import GaussianNB\n",
    "from sklearn.metrics import confusion_matrix\n",
    "from functools import reduce\n",
    "from sklearn.model_selection import GridSearchCV\n",
    "from statistics import mean, stdev\n",
    "from sklearn.model_selection import StratifiedKFold, train_test_split, cross_val_predict\n",
    "from imblearn.over_sampling import BorderlineSMOTE\n",
    "from imblearn.over_sampling import SVMSMOTE\n",
    "from imblearn.under_sampling import TomekLinks\n",
    "from matplotlib import pyplot as plt\n",
    "from sklearn.utils import class_weight\n",
    "from scipy.interpolate import splrep, splev\n",
    "from scipy.interpolate import make_interp_spline"
   ]
  },
  {
   "cell_type": "code",
   "execution_count": 2,
   "id": "499c7c9d",
   "metadata": {},
   "outputs": [],
   "source": [
    "all_merged = pd.read_csv('C:/Users/s3929438/all_features_desktop_100_latest_final_all.csv')"
   ]
  },
  {
   "cell_type": "code",
   "execution_count": 3,
   "id": "af7ca345",
   "metadata": {},
   "outputs": [],
   "source": [
    "selected_features = ['Error_rate_%', 'WPM', 'neg_UD_%', 'mean_F1', 'mean_F2', 'mean_F3',\n",
    "       'mean_F4', 'Tri_graph', 'RSA_ratio', 'LSA_ratio', 'mean_hold_time',\n",
    "       'mean_F1_dis_1_LL', 'mean_F1_dis_1_RR', 'mean_F1_dis_2_LL',\n",
    "       'mean_F1_dis_2_RR', 'mean_F1_dis_3_LL', 'mean_F1_dis_3_RR',\n",
    "       'mean_F2_dis_1_LL', 'mean_F2_dis_2_LL', 'mean_F2_dis_2_RR',\n",
    "       'mean_F2_dis_3_LL', 'mean_F2_dis_3_RR', 'mean_F3_dis_2_RR',\n",
    "       'mean_F3_dis_3_LL', 'mean_F4_dis_1_LL', 'mean_F4_dis_2_LL',\n",
    "       'mean_F4_dis_2_RR', 'mean_F4_dis_3_LL', 'mean_F1_se', 'mean_F2_se',\n",
    "       'mean_F3_se', 'mean_F4_se', 'mean_F1_th', 'mean_F2_th', 'mean_F3_th',\n",
    "       'mean_F4_th', 'mean_F1_he']"
   ]
  },
  {
   "cell_type": "code",
   "execution_count": 37,
   "id": "16462288",
   "metadata": {},
   "outputs": [],
   "source": [
    "round_1_prob = []\n",
    "round_2_prob = []\n",
    "round_3_prob = []\n",
    "round_4_prob = []\n",
    "round_5_prob = []\n",
    "\n",
    "round_1_lbl = []\n",
    "round_2_lbl = []\n",
    "round_3_lbl = []\n",
    "round_4_lbl = []\n",
    "round_5_lbl = []\n",
    "\n",
    "round_1_pred_lbl = []\n",
    "round_2_pred_lbl = []\n",
    "round_3_pred_lbl = []\n",
    "round_4_pred_lbl = []\n",
    "round_5_pred_lbl = []\n",
    "\n",
    "\n",
    "for a,i in enumerate (all_merged['User'].unique()):\n",
    "# for i in range (1,3):\n",
    "    user_set = all_merged[all_merged['User']==i]\n",
    "    other_set = all_merged[all_merged['User']!=i]\n",
    "    user_id = i\n",
    "              \n",
    "    user_set.insert(loc = len(user_set.columns),column = 'User_type',value = 1)\n",
    "    other_set.insert(loc = len(other_set.columns),column = 'User_type',value = 0)\n",
    "    \n",
    "    final_set = user_set.append(other_set)\n",
    "    \n",
    "    x = final_set[selected_features]\n",
    "    y = final_set['User_type']\n",
    "    \n",
    "    k = 5\n",
    "    skf = StratifiedKFold(n_splits=k, shuffle=True, random_state=42)\n",
    "    resample = SMOTE(random_state=42, sampling_strategy=0.2)\n",
    "    \n",
    "#     model_sl = xgb.XGBClassifier(colsample_bytree = 0.3,min_child_weight = 2,max_depth = 4)\n",
    "    model_sl = xgb.XGBClassifier(colsample_bytree = 0.5,min_child_weight = 5,max_depth = 5, learning_rate=0.1, subsample=0.9,\n",
    "                                 scale_pos_weight=0.7)\n",
    "    \n",
    "    \n",
    "    for s , (train_index , test_index) in enumerate (skf.split(x,y)):\n",
    "        if s==0:\n",
    "            fold_1 = []\n",
    "            pred_lbl1 = []\n",
    "            labels_1 = []\n",
    "            X_train , X_test = x.iloc[train_index,:],x.iloc[test_index,:]\n",
    "            y_train , y_test = y.iloc[train_index] , y.iloc[test_index]\n",
    "        \n",
    "            x_train_res, y_train_res = resample.fit_resample(X_train, y_train)\n",
    "        \n",
    "            model_sl.fit(x_train_res,y_train_res)\n",
    "            pred_values = model_sl.predict(X_test)\n",
    "            predict_probs = model_sl.predict_proba(X_test)\n",
    "            true_label = y_test\n",
    "        \n",
    "            fold_1.append(predict_probs[:,-1].tolist())\n",
    "            labels_1.append(true_label.to_list())\n",
    "            pred_lbl1.append(pred_values.tolist())\n",
    "            \n",
    "        if s==1:\n",
    "            fold_2 = []\n",
    "            labels_2 = []\n",
    "            pred_lbl2 = []\n",
    "            X_train , X_test = x.iloc[train_index,:],x.iloc[test_index,:]\n",
    "            y_train , y_test = y.iloc[train_index] , y.iloc[test_index]\n",
    "        \n",
    "            x_train_res, y_train_res = resample.fit_resample(X_train, y_train)\n",
    "        \n",
    "            model_sl.fit(x_train_res,y_train_res)\n",
    "            pred_values = model_sl.predict(X_test)\n",
    "            predict_probs = model_sl.predict_proba(X_test)\n",
    "            true_label = y_test\n",
    "        \n",
    "            fold_2.append(predict_probs[:,-1].tolist())\n",
    "            labels_2.append(true_label.to_list())\n",
    "            pred_lbl2.append(pred_values.tolist())\n",
    "            \n",
    "        if s==2:\n",
    "            fold_3 = []\n",
    "            labels_3 = []\n",
    "            pred_lbl3 = []\n",
    "            X_train , X_test = x.iloc[train_index,:],x.iloc[test_index,:]\n",
    "            y_train , y_test = y.iloc[train_index] , y.iloc[test_index]\n",
    "        \n",
    "            x_train_res, y_train_res = resample.fit_resample(X_train, y_train)\n",
    "        \n",
    "            model_sl.fit(x_train_res,y_train_res)\n",
    "            pred_values = model_sl.predict(X_test)\n",
    "            predict_probs = model_sl.predict_proba(X_test)\n",
    "            true_label = y_test\n",
    "        \n",
    "            fold_3.append(predict_probs[:,-1].tolist())\n",
    "            labels_3.append(true_label.to_list())\n",
    "            pred_lbl3.append(pred_values.tolist())\n",
    "            \n",
    "        if s==3:\n",
    "            fold_4 = []\n",
    "            labels_4 = []\n",
    "            pred_lbl4 = []\n",
    "            X_train , X_test = x.iloc[train_index,:],x.iloc[test_index,:]\n",
    "            y_train , y_test = y.iloc[train_index] , y.iloc[test_index]\n",
    "        \n",
    "            x_train_res, y_train_res = resample.fit_resample(X_train, y_train)\n",
    "        \n",
    "            model_sl.fit(x_train_res,y_train_res)\n",
    "            pred_values = model_sl.predict(X_test)\n",
    "            predict_probs = model_sl.predict_proba(X_test)\n",
    "            true_label = y_test\n",
    "        \n",
    "            fold_4.append(predict_probs[:,-1].tolist())\n",
    "            labels_4.append(true_label.to_list())\n",
    "            pred_lbl4.append(pred_values.tolist())\n",
    "                \n",
    "        if s==4:\n",
    "            fold_5 = []\n",
    "            labels_5 = []\n",
    "            pred_lbl5 = []\n",
    "            X_train , X_test = x.iloc[train_index,:],x.iloc[test_index,:]\n",
    "            y_train , y_test = y.iloc[train_index] , y.iloc[test_index]\n",
    "        \n",
    "            x_train_res, y_train_res = resample.fit_resample(X_train, y_train)\n",
    "        \n",
    "            model_sl.fit(x_train_res,y_train_res)\n",
    "            pred_values = model_sl.predict(X_test)\n",
    "            predict_probs = model_sl.predict_proba(X_test)\n",
    "            true_label = y_test\n",
    "        \n",
    "            fold_5.append(predict_probs[:,-1].tolist())\n",
    "            labels_5.append(true_label.to_list())\n",
    "            pred_lbl5.append(pred_values.tolist())\n",
    "                \n",
    "    round_1_prob.append(fold_1[0])\n",
    "    round_2_prob.append(fold_2[0])\n",
    "    round_3_prob.append(fold_3[0])\n",
    "    round_4_prob.append(fold_4[0])\n",
    "    round_5_prob.append(fold_5[0])\n",
    "        \n",
    "    round_1_lbl.append(labels_1[0])\n",
    "    round_2_lbl.append(labels_2[0])\n",
    "    round_3_lbl.append(labels_3[0])\n",
    "    round_4_lbl.append(labels_4[0])\n",
    "    round_5_lbl.append(labels_5[0])\n",
    "    \n",
    "    round_1_pred_lbl.append(pred_lbl1[0])\n",
    "    round_2_pred_lbl.append(pred_lbl2[0])\n",
    "    round_3_pred_lbl.append(pred_lbl3[0])\n",
    "    round_4_pred_lbl.append(pred_lbl4[0])\n",
    "    round_5_pred_lbl.append(pred_lbl5[0])"
   ]
  },
  {
   "cell_type": "code",
   "execution_count": null,
   "id": "11ba0d33",
   "metadata": {},
   "outputs": [],
   "source": [
    "pred_lbl1[1]"
   ]
  },
  {
   "cell_type": "code",
   "execution_count": 38,
   "id": "236e1cb3",
   "metadata": {},
   "outputs": [],
   "source": [
    "for z in range(0,116):\n",
    "    if z == 0:\n",
    "        append_all_fold1 = round_1_prob[z]\n",
    "        append_all_label1 = round_1_lbl[z]\n",
    "        append_all_pred_label1 = round_1_pred_lbl[z]\n",
    "    else:\n",
    "        append_all_fold1 = append_all_fold1 + round_1_prob[z]\n",
    "        append_all_label1 = append_all_label1 + round_1_lbl[z]\n",
    "        append_all_pred_label1 = append_all_pred_label1 + round_1_pred_lbl[z]\n",
    "        \n",
    "# for a,x in enumerate (all_merged['User'].unique()):\n",
    "for z in range (0,116):\n",
    "    if z == 0:\n",
    "        append_all_fold2 = round_2_prob[z]\n",
    "        append_all_label2 = round_2_lbl[z]\n",
    "        append_all_pred_label2 = round_2_pred_lbl[z]\n",
    "    else:\n",
    "        append_all_fold2 = append_all_fold2 + round_2_prob[z]\n",
    "        append_all_label2 = append_all_label2 + round_2_lbl[z]\n",
    "        append_all_pred_label2 = append_all_pred_label2 + round_2_pred_lbl[z]\n",
    "        \n",
    "# for a,x in enumerate (all_merged['User'].unique()):\n",
    "for z in range (0,116):\n",
    "    if z == 0:\n",
    "        append_all_fold3 = round_3_prob[z]\n",
    "        append_all_label3 = round_3_lbl[z]\n",
    "        append_all_pred_label3 = round_3_pred_lbl[z]\n",
    "    else:\n",
    "        append_all_fold3 = append_all_fold3 + round_3_prob[z]\n",
    "        append_all_label3 = append_all_label3 + round_3_lbl[z]\n",
    "        append_all_pred_label3 = append_all_pred_label3 + round_3_pred_lbl[z]\n",
    "        \n",
    "# for a,x in enumerate (all_merged['User'].unique()):\n",
    "for z in range (0,116):\n",
    "    if z == 0:\n",
    "        append_all_fold4 = round_4_prob[z]\n",
    "        append_all_label4 = round_4_lbl[z]\n",
    "        append_all_pred_label4 = round_4_pred_lbl[z]\n",
    "    else:\n",
    "        append_all_fold4 = append_all_fold4 + round_4_prob[z]\n",
    "        append_all_label4 = append_all_label4 + round_4_lbl[z]\n",
    "        append_all_pred_label4 = append_all_pred_label4 + round_4_pred_lbl[z]\n",
    "        \n",
    "# for a,x in enumerate (all_merged['User'].unique()):\n",
    "for z in range (0,116):\n",
    "    if z == 0:\n",
    "        append_all_fold5 = round_5_prob[z]\n",
    "        append_all_label5 = round_5_lbl[z]\n",
    "        append_all_pred_label5 = round_5_pred_lbl[z]\n",
    "    else:\n",
    "        append_all_fold5 = append_all_fold5 + round_5_prob[z]\n",
    "        append_all_label5 = append_all_label5 + round_5_lbl[z]\n",
    "        append_all_pred_label5 = append_all_pred_label5 + round_5_pred_lbl[z]"
   ]
  },
  {
   "cell_type": "code",
   "execution_count": 39,
   "id": "d1773d3f",
   "metadata": {},
   "outputs": [],
   "source": [
    "Final_results_df_all = pd.DataFrame(list(zip(append_all_fold1,append_all_label1,append_all_fold2,append_all_label2,\n",
    "                                             append_all_fold3,append_all_label3, append_all_fold4,append_all_label4,\n",
    "                                             append_all_fold5, append_all_label5, append_all_pred_label1,append_all_pred_label2,\n",
    "                                            append_all_pred_label3,append_all_pred_label4,append_all_pred_label5)),\n",
    "        columns =['Fold_1_pro','Fold_1_tl', 'Fold_2_pro', 'Fold_2_tl','Fold_3_pro','Fold_3_tl','Fold_4_pro','Fold_4_tl',\n",
    "                  'Fold_5_pro', 'Fold_5_tl','Fold_1_pl', 'Fold_2_pl','Fold_3_pl','Fold_4_pl', 'Fold_5_pl'])"
   ]
  },
  {
   "cell_type": "code",
   "execution_count": 40,
   "id": "631dbcb9",
   "metadata": {},
   "outputs": [
    {
     "data": {
      "text/html": [
       "<div>\n",
       "<style scoped>\n",
       "    .dataframe tbody tr th:only-of-type {\n",
       "        vertical-align: middle;\n",
       "    }\n",
       "\n",
       "    .dataframe tbody tr th {\n",
       "        vertical-align: top;\n",
       "    }\n",
       "\n",
       "    .dataframe thead th {\n",
       "        text-align: right;\n",
       "    }\n",
       "</style>\n",
       "<table border=\"1\" class=\"dataframe\">\n",
       "  <thead>\n",
       "    <tr style=\"text-align: right;\">\n",
       "      <th></th>\n",
       "      <th>Fold_1_pro</th>\n",
       "      <th>Fold_1_tl</th>\n",
       "      <th>Fold_2_pro</th>\n",
       "      <th>Fold_2_tl</th>\n",
       "      <th>Fold_3_pro</th>\n",
       "      <th>Fold_3_tl</th>\n",
       "      <th>Fold_4_pro</th>\n",
       "      <th>Fold_4_tl</th>\n",
       "      <th>Fold_5_pro</th>\n",
       "      <th>Fold_5_tl</th>\n",
       "      <th>Fold_1_pl</th>\n",
       "      <th>Fold_2_pl</th>\n",
       "      <th>Fold_3_pl</th>\n",
       "      <th>Fold_4_pl</th>\n",
       "      <th>Fold_5_pl</th>\n",
       "    </tr>\n",
       "  </thead>\n",
       "  <tbody>\n",
       "    <tr>\n",
       "      <th>0</th>\n",
       "      <td>0.997147</td>\n",
       "      <td>1</td>\n",
       "      <td>0.998744</td>\n",
       "      <td>1</td>\n",
       "      <td>0.998265</td>\n",
       "      <td>1</td>\n",
       "      <td>0.996325</td>\n",
       "      <td>1</td>\n",
       "      <td>0.947573</td>\n",
       "      <td>1</td>\n",
       "      <td>1</td>\n",
       "      <td>1</td>\n",
       "      <td>1</td>\n",
       "      <td>1</td>\n",
       "      <td>1</td>\n",
       "    </tr>\n",
       "    <tr>\n",
       "      <th>1</th>\n",
       "      <td>0.994781</td>\n",
       "      <td>1</td>\n",
       "      <td>0.995743</td>\n",
       "      <td>1</td>\n",
       "      <td>0.990647</td>\n",
       "      <td>1</td>\n",
       "      <td>0.995348</td>\n",
       "      <td>1</td>\n",
       "      <td>0.998384</td>\n",
       "      <td>1</td>\n",
       "      <td>1</td>\n",
       "      <td>1</td>\n",
       "      <td>1</td>\n",
       "      <td>1</td>\n",
       "      <td>1</td>\n",
       "    </tr>\n",
       "    <tr>\n",
       "      <th>2</th>\n",
       "      <td>0.996388</td>\n",
       "      <td>1</td>\n",
       "      <td>0.998635</td>\n",
       "      <td>1</td>\n",
       "      <td>0.986407</td>\n",
       "      <td>1</td>\n",
       "      <td>0.994779</td>\n",
       "      <td>1</td>\n",
       "      <td>0.998404</td>\n",
       "      <td>1</td>\n",
       "      <td>1</td>\n",
       "      <td>1</td>\n",
       "      <td>1</td>\n",
       "      <td>1</td>\n",
       "      <td>1</td>\n",
       "    </tr>\n",
       "    <tr>\n",
       "      <th>3</th>\n",
       "      <td>0.992893</td>\n",
       "      <td>1</td>\n",
       "      <td>0.999070</td>\n",
       "      <td>1</td>\n",
       "      <td>0.895298</td>\n",
       "      <td>1</td>\n",
       "      <td>0.990986</td>\n",
       "      <td>1</td>\n",
       "      <td>0.996338</td>\n",
       "      <td>1</td>\n",
       "      <td>1</td>\n",
       "      <td>1</td>\n",
       "      <td>1</td>\n",
       "      <td>1</td>\n",
       "      <td>1</td>\n",
       "    </tr>\n",
       "    <tr>\n",
       "      <th>4</th>\n",
       "      <td>0.481389</td>\n",
       "      <td>1</td>\n",
       "      <td>0.546090</td>\n",
       "      <td>1</td>\n",
       "      <td>0.015858</td>\n",
       "      <td>1</td>\n",
       "      <td>0.984864</td>\n",
       "      <td>1</td>\n",
       "      <td>0.967572</td>\n",
       "      <td>1</td>\n",
       "      <td>0</td>\n",
       "      <td>1</td>\n",
       "      <td>0</td>\n",
       "      <td>1</td>\n",
       "      <td>1</td>\n",
       "    </tr>\n",
       "    <tr>\n",
       "      <th>...</th>\n",
       "      <td>...</td>\n",
       "      <td>...</td>\n",
       "      <td>...</td>\n",
       "      <td>...</td>\n",
       "      <td>...</td>\n",
       "      <td>...</td>\n",
       "      <td>...</td>\n",
       "      <td>...</td>\n",
       "      <td>...</td>\n",
       "      <td>...</td>\n",
       "      <td>...</td>\n",
       "      <td>...</td>\n",
       "      <td>...</td>\n",
       "      <td>...</td>\n",
       "      <td>...</td>\n",
       "    </tr>\n",
       "    <tr>\n",
       "      <th>149055</th>\n",
       "      <td>0.000954</td>\n",
       "      <td>0</td>\n",
       "      <td>0.016606</td>\n",
       "      <td>0</td>\n",
       "      <td>0.002675</td>\n",
       "      <td>0</td>\n",
       "      <td>0.005326</td>\n",
       "      <td>0</td>\n",
       "      <td>0.000624</td>\n",
       "      <td>0</td>\n",
       "      <td>0</td>\n",
       "      <td>0</td>\n",
       "      <td>0</td>\n",
       "      <td>0</td>\n",
       "      <td>0</td>\n",
       "    </tr>\n",
       "    <tr>\n",
       "      <th>149056</th>\n",
       "      <td>0.012290</td>\n",
       "      <td>0</td>\n",
       "      <td>0.007058</td>\n",
       "      <td>0</td>\n",
       "      <td>0.000883</td>\n",
       "      <td>0</td>\n",
       "      <td>0.002225</td>\n",
       "      <td>0</td>\n",
       "      <td>0.000483</td>\n",
       "      <td>0</td>\n",
       "      <td>0</td>\n",
       "      <td>0</td>\n",
       "      <td>0</td>\n",
       "      <td>0</td>\n",
       "      <td>0</td>\n",
       "    </tr>\n",
       "    <tr>\n",
       "      <th>149057</th>\n",
       "      <td>0.000827</td>\n",
       "      <td>0</td>\n",
       "      <td>0.001179</td>\n",
       "      <td>0</td>\n",
       "      <td>0.001023</td>\n",
       "      <td>0</td>\n",
       "      <td>0.001023</td>\n",
       "      <td>0</td>\n",
       "      <td>0.005463</td>\n",
       "      <td>0</td>\n",
       "      <td>0</td>\n",
       "      <td>0</td>\n",
       "      <td>0</td>\n",
       "      <td>0</td>\n",
       "      <td>0</td>\n",
       "    </tr>\n",
       "    <tr>\n",
       "      <th>149058</th>\n",
       "      <td>0.001262</td>\n",
       "      <td>0</td>\n",
       "      <td>0.001068</td>\n",
       "      <td>0</td>\n",
       "      <td>0.001934</td>\n",
       "      <td>0</td>\n",
       "      <td>0.000537</td>\n",
       "      <td>0</td>\n",
       "      <td>0.001274</td>\n",
       "      <td>0</td>\n",
       "      <td>0</td>\n",
       "      <td>0</td>\n",
       "      <td>0</td>\n",
       "      <td>0</td>\n",
       "      <td>0</td>\n",
       "    </tr>\n",
       "    <tr>\n",
       "      <th>149059</th>\n",
       "      <td>0.001035</td>\n",
       "      <td>0</td>\n",
       "      <td>0.000467</td>\n",
       "      <td>0</td>\n",
       "      <td>0.000991</td>\n",
       "      <td>0</td>\n",
       "      <td>0.000567</td>\n",
       "      <td>0</td>\n",
       "      <td>0.000976</td>\n",
       "      <td>0</td>\n",
       "      <td>0</td>\n",
       "      <td>0</td>\n",
       "      <td>0</td>\n",
       "      <td>0</td>\n",
       "      <td>0</td>\n",
       "    </tr>\n",
       "  </tbody>\n",
       "</table>\n",
       "<p>149060 rows × 15 columns</p>\n",
       "</div>"
      ],
      "text/plain": [
       "        Fold_1_pro  Fold_1_tl  Fold_2_pro  Fold_2_tl  Fold_3_pro  Fold_3_tl  \\\n",
       "0         0.997147          1    0.998744          1    0.998265          1   \n",
       "1         0.994781          1    0.995743          1    0.990647          1   \n",
       "2         0.996388          1    0.998635          1    0.986407          1   \n",
       "3         0.992893          1    0.999070          1    0.895298          1   \n",
       "4         0.481389          1    0.546090          1    0.015858          1   \n",
       "...            ...        ...         ...        ...         ...        ...   \n",
       "149055    0.000954          0    0.016606          0    0.002675          0   \n",
       "149056    0.012290          0    0.007058          0    0.000883          0   \n",
       "149057    0.000827          0    0.001179          0    0.001023          0   \n",
       "149058    0.001262          0    0.001068          0    0.001934          0   \n",
       "149059    0.001035          0    0.000467          0    0.000991          0   \n",
       "\n",
       "        Fold_4_pro  Fold_4_tl  Fold_5_pro  Fold_5_tl  Fold_1_pl  Fold_2_pl  \\\n",
       "0         0.996325          1    0.947573          1          1          1   \n",
       "1         0.995348          1    0.998384          1          1          1   \n",
       "2         0.994779          1    0.998404          1          1          1   \n",
       "3         0.990986          1    0.996338          1          1          1   \n",
       "4         0.984864          1    0.967572          1          0          1   \n",
       "...            ...        ...         ...        ...        ...        ...   \n",
       "149055    0.005326          0    0.000624          0          0          0   \n",
       "149056    0.002225          0    0.000483          0          0          0   \n",
       "149057    0.001023          0    0.005463          0          0          0   \n",
       "149058    0.000537          0    0.001274          0          0          0   \n",
       "149059    0.000567          0    0.000976          0          0          0   \n",
       "\n",
       "        Fold_3_pl  Fold_4_pl  Fold_5_pl  \n",
       "0               1          1          1  \n",
       "1               1          1          1  \n",
       "2               1          1          1  \n",
       "3               1          1          1  \n",
       "4               0          1          1  \n",
       "...           ...        ...        ...  \n",
       "149055          0          0          0  \n",
       "149056          0          0          0  \n",
       "149057          0          0          0  \n",
       "149058          0          0          0  \n",
       "149059          0          0          0  \n",
       "\n",
       "[149060 rows x 15 columns]"
      ]
     },
     "execution_count": 40,
     "metadata": {},
     "output_type": "execute_result"
    }
   ],
   "source": [
    "Final_results_df_all"
   ]
  },
  {
   "cell_type": "code",
   "execution_count": 42,
   "id": "268c3499",
   "metadata": {},
   "outputs": [],
   "source": [
    "Final_results_df_all.to_csv('Probabilities_XGboost_desktop.csv')"
   ]
  },
  {
   "cell_type": "code",
   "execution_count": 43,
   "id": "0adf4a9a",
   "metadata": {},
   "outputs": [],
   "source": [
    "Final_results_df_all = pd.read_csv('C:/Users/s3929438/Probabilities_XGboost_desktop.csv')"
   ]
  },
  {
   "cell_type": "code",
   "execution_count": 44,
   "id": "06cf55a3",
   "metadata": {},
   "outputs": [
    {
     "data": {
      "text/html": [
       "<div>\n",
       "<style scoped>\n",
       "    .dataframe tbody tr th:only-of-type {\n",
       "        vertical-align: middle;\n",
       "    }\n",
       "\n",
       "    .dataframe tbody tr th {\n",
       "        vertical-align: top;\n",
       "    }\n",
       "\n",
       "    .dataframe thead th {\n",
       "        text-align: right;\n",
       "    }\n",
       "</style>\n",
       "<table border=\"1\" class=\"dataframe\">\n",
       "  <thead>\n",
       "    <tr style=\"text-align: right;\">\n",
       "      <th></th>\n",
       "      <th>Unnamed: 0</th>\n",
       "      <th>Fold_1_pro</th>\n",
       "      <th>Fold_1_tl</th>\n",
       "      <th>Fold_2_pro</th>\n",
       "      <th>Fold_2_tl</th>\n",
       "      <th>Fold_3_pro</th>\n",
       "      <th>Fold_3_tl</th>\n",
       "      <th>Fold_4_pro</th>\n",
       "      <th>Fold_4_tl</th>\n",
       "      <th>Fold_5_pro</th>\n",
       "      <th>Fold_5_tl</th>\n",
       "      <th>Fold_1_pl</th>\n",
       "      <th>Fold_2_pl</th>\n",
       "      <th>Fold_3_pl</th>\n",
       "      <th>Fold_4_pl</th>\n",
       "      <th>Fold_5_pl</th>\n",
       "    </tr>\n",
       "  </thead>\n",
       "  <tbody>\n",
       "    <tr>\n",
       "      <th>0</th>\n",
       "      <td>0</td>\n",
       "      <td>0.997147</td>\n",
       "      <td>1</td>\n",
       "      <td>0.998744</td>\n",
       "      <td>1</td>\n",
       "      <td>0.998265</td>\n",
       "      <td>1</td>\n",
       "      <td>0.996325</td>\n",
       "      <td>1</td>\n",
       "      <td>0.947573</td>\n",
       "      <td>1</td>\n",
       "      <td>1</td>\n",
       "      <td>1</td>\n",
       "      <td>1</td>\n",
       "      <td>1</td>\n",
       "      <td>1</td>\n",
       "    </tr>\n",
       "    <tr>\n",
       "      <th>1</th>\n",
       "      <td>1</td>\n",
       "      <td>0.994781</td>\n",
       "      <td>1</td>\n",
       "      <td>0.995743</td>\n",
       "      <td>1</td>\n",
       "      <td>0.990647</td>\n",
       "      <td>1</td>\n",
       "      <td>0.995348</td>\n",
       "      <td>1</td>\n",
       "      <td>0.998384</td>\n",
       "      <td>1</td>\n",
       "      <td>1</td>\n",
       "      <td>1</td>\n",
       "      <td>1</td>\n",
       "      <td>1</td>\n",
       "      <td>1</td>\n",
       "    </tr>\n",
       "    <tr>\n",
       "      <th>2</th>\n",
       "      <td>2</td>\n",
       "      <td>0.996388</td>\n",
       "      <td>1</td>\n",
       "      <td>0.998635</td>\n",
       "      <td>1</td>\n",
       "      <td>0.986407</td>\n",
       "      <td>1</td>\n",
       "      <td>0.994779</td>\n",
       "      <td>1</td>\n",
       "      <td>0.998404</td>\n",
       "      <td>1</td>\n",
       "      <td>1</td>\n",
       "      <td>1</td>\n",
       "      <td>1</td>\n",
       "      <td>1</td>\n",
       "      <td>1</td>\n",
       "    </tr>\n",
       "    <tr>\n",
       "      <th>3</th>\n",
       "      <td>3</td>\n",
       "      <td>0.992893</td>\n",
       "      <td>1</td>\n",
       "      <td>0.999070</td>\n",
       "      <td>1</td>\n",
       "      <td>0.895298</td>\n",
       "      <td>1</td>\n",
       "      <td>0.990986</td>\n",
       "      <td>1</td>\n",
       "      <td>0.996338</td>\n",
       "      <td>1</td>\n",
       "      <td>1</td>\n",
       "      <td>1</td>\n",
       "      <td>1</td>\n",
       "      <td>1</td>\n",
       "      <td>1</td>\n",
       "    </tr>\n",
       "    <tr>\n",
       "      <th>4</th>\n",
       "      <td>4</td>\n",
       "      <td>0.481389</td>\n",
       "      <td>1</td>\n",
       "      <td>0.546090</td>\n",
       "      <td>1</td>\n",
       "      <td>0.015858</td>\n",
       "      <td>1</td>\n",
       "      <td>0.984864</td>\n",
       "      <td>1</td>\n",
       "      <td>0.967572</td>\n",
       "      <td>1</td>\n",
       "      <td>0</td>\n",
       "      <td>1</td>\n",
       "      <td>0</td>\n",
       "      <td>1</td>\n",
       "      <td>1</td>\n",
       "    </tr>\n",
       "    <tr>\n",
       "      <th>...</th>\n",
       "      <td>...</td>\n",
       "      <td>...</td>\n",
       "      <td>...</td>\n",
       "      <td>...</td>\n",
       "      <td>...</td>\n",
       "      <td>...</td>\n",
       "      <td>...</td>\n",
       "      <td>...</td>\n",
       "      <td>...</td>\n",
       "      <td>...</td>\n",
       "      <td>...</td>\n",
       "      <td>...</td>\n",
       "      <td>...</td>\n",
       "      <td>...</td>\n",
       "      <td>...</td>\n",
       "      <td>...</td>\n",
       "    </tr>\n",
       "    <tr>\n",
       "      <th>149055</th>\n",
       "      <td>149055</td>\n",
       "      <td>0.000954</td>\n",
       "      <td>0</td>\n",
       "      <td>0.016606</td>\n",
       "      <td>0</td>\n",
       "      <td>0.002675</td>\n",
       "      <td>0</td>\n",
       "      <td>0.005326</td>\n",
       "      <td>0</td>\n",
       "      <td>0.000624</td>\n",
       "      <td>0</td>\n",
       "      <td>0</td>\n",
       "      <td>0</td>\n",
       "      <td>0</td>\n",
       "      <td>0</td>\n",
       "      <td>0</td>\n",
       "    </tr>\n",
       "    <tr>\n",
       "      <th>149056</th>\n",
       "      <td>149056</td>\n",
       "      <td>0.012290</td>\n",
       "      <td>0</td>\n",
       "      <td>0.007058</td>\n",
       "      <td>0</td>\n",
       "      <td>0.000883</td>\n",
       "      <td>0</td>\n",
       "      <td>0.002225</td>\n",
       "      <td>0</td>\n",
       "      <td>0.000483</td>\n",
       "      <td>0</td>\n",
       "      <td>0</td>\n",
       "      <td>0</td>\n",
       "      <td>0</td>\n",
       "      <td>0</td>\n",
       "      <td>0</td>\n",
       "    </tr>\n",
       "    <tr>\n",
       "      <th>149057</th>\n",
       "      <td>149057</td>\n",
       "      <td>0.000827</td>\n",
       "      <td>0</td>\n",
       "      <td>0.001179</td>\n",
       "      <td>0</td>\n",
       "      <td>0.001023</td>\n",
       "      <td>0</td>\n",
       "      <td>0.001023</td>\n",
       "      <td>0</td>\n",
       "      <td>0.005463</td>\n",
       "      <td>0</td>\n",
       "      <td>0</td>\n",
       "      <td>0</td>\n",
       "      <td>0</td>\n",
       "      <td>0</td>\n",
       "      <td>0</td>\n",
       "    </tr>\n",
       "    <tr>\n",
       "      <th>149058</th>\n",
       "      <td>149058</td>\n",
       "      <td>0.001262</td>\n",
       "      <td>0</td>\n",
       "      <td>0.001068</td>\n",
       "      <td>0</td>\n",
       "      <td>0.001934</td>\n",
       "      <td>0</td>\n",
       "      <td>0.000537</td>\n",
       "      <td>0</td>\n",
       "      <td>0.001274</td>\n",
       "      <td>0</td>\n",
       "      <td>0</td>\n",
       "      <td>0</td>\n",
       "      <td>0</td>\n",
       "      <td>0</td>\n",
       "      <td>0</td>\n",
       "    </tr>\n",
       "    <tr>\n",
       "      <th>149059</th>\n",
       "      <td>149059</td>\n",
       "      <td>0.001035</td>\n",
       "      <td>0</td>\n",
       "      <td>0.000467</td>\n",
       "      <td>0</td>\n",
       "      <td>0.000991</td>\n",
       "      <td>0</td>\n",
       "      <td>0.000567</td>\n",
       "      <td>0</td>\n",
       "      <td>0.000976</td>\n",
       "      <td>0</td>\n",
       "      <td>0</td>\n",
       "      <td>0</td>\n",
       "      <td>0</td>\n",
       "      <td>0</td>\n",
       "      <td>0</td>\n",
       "    </tr>\n",
       "  </tbody>\n",
       "</table>\n",
       "<p>149060 rows × 16 columns</p>\n",
       "</div>"
      ],
      "text/plain": [
       "        Unnamed: 0  Fold_1_pro  Fold_1_tl  Fold_2_pro  Fold_2_tl  Fold_3_pro  \\\n",
       "0                0    0.997147          1    0.998744          1    0.998265   \n",
       "1                1    0.994781          1    0.995743          1    0.990647   \n",
       "2                2    0.996388          1    0.998635          1    0.986407   \n",
       "3                3    0.992893          1    0.999070          1    0.895298   \n",
       "4                4    0.481389          1    0.546090          1    0.015858   \n",
       "...            ...         ...        ...         ...        ...         ...   \n",
       "149055      149055    0.000954          0    0.016606          0    0.002675   \n",
       "149056      149056    0.012290          0    0.007058          0    0.000883   \n",
       "149057      149057    0.000827          0    0.001179          0    0.001023   \n",
       "149058      149058    0.001262          0    0.001068          0    0.001934   \n",
       "149059      149059    0.001035          0    0.000467          0    0.000991   \n",
       "\n",
       "        Fold_3_tl  Fold_4_pro  Fold_4_tl  Fold_5_pro  Fold_5_tl  Fold_1_pl  \\\n",
       "0               1    0.996325          1    0.947573          1          1   \n",
       "1               1    0.995348          1    0.998384          1          1   \n",
       "2               1    0.994779          1    0.998404          1          1   \n",
       "3               1    0.990986          1    0.996338          1          1   \n",
       "4               1    0.984864          1    0.967572          1          0   \n",
       "...           ...         ...        ...         ...        ...        ...   \n",
       "149055          0    0.005326          0    0.000624          0          0   \n",
       "149056          0    0.002225          0    0.000483          0          0   \n",
       "149057          0    0.001023          0    0.005463          0          0   \n",
       "149058          0    0.000537          0    0.001274          0          0   \n",
       "149059          0    0.000567          0    0.000976          0          0   \n",
       "\n",
       "        Fold_2_pl  Fold_3_pl  Fold_4_pl  Fold_5_pl  \n",
       "0               1          1          1          1  \n",
       "1               1          1          1          1  \n",
       "2               1          1          1          1  \n",
       "3               1          1          1          1  \n",
       "4               1          0          1          1  \n",
       "...           ...        ...        ...        ...  \n",
       "149055          0          0          0          0  \n",
       "149056          0          0          0          0  \n",
       "149057          0          0          0          0  \n",
       "149058          0          0          0          0  \n",
       "149059          0          0          0          0  \n",
       "\n",
       "[149060 rows x 16 columns]"
      ]
     },
     "execution_count": 44,
     "metadata": {},
     "output_type": "execute_result"
    }
   ],
   "source": [
    "Final_results_df_all"
   ]
  },
  {
   "cell_type": "code",
   "execution_count": null,
   "id": "a3423e45",
   "metadata": {},
   "outputs": [],
   "source": [
    "fpr1, tpr1, _ = roc_curve(Final_results_df_all.iloc[:,2], Final_results_df_all.iloc[:,1])\n",
    "fpr2, tpr2, _ = roc_curve(Final_results_df_all.iloc[:,4], Final_results_df_all.iloc[:,3])\n",
    "fpr3, tpr3, _ = roc_curve(Final_results_df_all.iloc[:,6], Final_results_df_all.iloc[:,5])\n",
    "fpr4, tpr4, _ = roc_curve(Final_results_df_all.iloc[:,8], Final_results_df_all.iloc[:,7])\n",
    "fpr5, tpr5, _ = roc_curve(Final_results_df_all.iloc[:,10], Final_results_df_all.iloc[:,9])"
   ]
  },
  {
   "cell_type": "code",
   "execution_count": 23,
   "id": "a02943be",
   "metadata": {},
   "outputs": [],
   "source": [
    "# fpr1, tpr1, _ = roc_curve(Final_results_df_all.iloc[:,1], Final_results_df_all.iloc[:,0])\n",
    "# fpr2, tpr2, _ = roc_curve(Final_results_df_all.iloc[:,3], Final_results_df_all.iloc[:,2])\n",
    "# fpr3, tpr3, _ = roc_curve(Final_results_df_all.iloc[:,5], Final_results_df_all.iloc[:,4])\n",
    "# fpr4, tpr4, _ = roc_curve(Final_results_df_all.iloc[:,7], Final_results_df_all.iloc[:,6])\n",
    "# fpr5, tpr5, _ = roc_curve(Final_results_df_all.iloc[:,9], Final_results_df_all.iloc[:,8])"
   ]
  },
  {
   "cell_type": "code",
   "execution_count": 24,
   "id": "bc22f6d3",
   "metadata": {},
   "outputs": [],
   "source": [
    "fnr1 = [1-x for x in tpr1]\n",
    "fnr2 = [1-x for x in tpr2]\n",
    "fnr3 = [1-x for x in tpr3]\n",
    "fnr4 = [1-x for x in tpr4]\n",
    "fnr5 = [1-x for x in tpr5]"
   ]
  },
  {
   "cell_type": "code",
   "execution_count": 25,
   "id": "c2a8751f",
   "metadata": {},
   "outputs": [],
   "source": [
    "fpr_list = [fpr1, fpr2,fpr3,fpr4,fpr5]\n",
    "tpr_list = [tpr1, tpr2,tpr3,tpr4,tpr5]\n",
    "fnr_list = [fnr1, fnr2,fnr3,fnr4,fnr5]"
   ]
  },
  {
   "cell_type": "code",
   "execution_count": 26,
   "id": "bb828d43",
   "metadata": {},
   "outputs": [],
   "source": [
    "max_length = max(len(fprs) for fprs in fpr_list)"
   ]
  },
  {
   "cell_type": "code",
   "execution_count": 27,
   "id": "8cbbb027",
   "metadata": {},
   "outputs": [],
   "source": [
    "for i in range(0,5):\n",
    "    if len(fpr_list[i]) < max_length:\n",
    "        fpr_list[i] = np.pad(fpr_list[i], (0, max_length - len(fpr_list[i])), constant_values=1)"
   ]
  },
  {
   "cell_type": "code",
   "execution_count": 28,
   "id": "8dd6c8c2",
   "metadata": {},
   "outputs": [],
   "source": [
    "for i in range(0,5):\n",
    "    if len(tpr_list[i]) < max_length:\n",
    "        tpr_list[i] = np.pad(tpr_list[i], (0, max_length - len(tpr_list[i])), constant_values=1)"
   ]
  },
  {
   "cell_type": "code",
   "execution_count": 29,
   "id": "24b34a83",
   "metadata": {},
   "outputs": [],
   "source": [
    "for i in range(0,5):\n",
    "    if len(fnr_list[i]) < max_length:\n",
    "        fnr_list[i] = np.pad(fnr_list[i], (0, max_length - len(fnr_list[i])), constant_values=0)"
   ]
  },
  {
   "cell_type": "code",
   "execution_count": 30,
   "id": "f1872186",
   "metadata": {},
   "outputs": [],
   "source": [
    "mean_fpr = np.mean(fpr_list, axis=0)\n",
    "mean_tpr = np.mean(tpr_list, axis=0)\n",
    "mean_fnr = np.mean(fnr_list, axis=0)"
   ]
  },
  {
   "cell_type": "code",
   "execution_count": null,
   "id": "eff2fba6",
   "metadata": {},
   "outputs": [],
   "source": [
    "fig,ax = plt.subplots(figsize = (10,10))\n",
    "plt.plot(mean_fpr, mean_tpr)\n",
    "\n",
    "plt.plot([0, 1], [0, 1],'r--')\n",
    "plt.xlabel('False Positive Rate')\n",
    "plt.ylabel('True Positive Rate')\n",
    "\n",
    "plt.show()"
   ]
  },
  {
   "cell_type": "code",
   "execution_count": null,
   "id": "12e7093f",
   "metadata": {},
   "outputs": [],
   "source": [
    "fig,ax = plt.subplots(figsize = (10,10))\n",
    "plt.plot(mean_fpr*100,mean_fnr*100)\n",
    "plt.plot([0, 100], [0, 100],'r--')\n",
    "ax.set_xlabel('False Positive Rate %', fontsize = 24, labelpad=15)\n",
    "ax.set_ylabel('False Negative Rate %', fontsize = 24, labelpad=15)\n",
    "ax.xaxis.set_tick_params(labelsize = 15)\n",
    "ax.yaxis.set_tick_params(labelsize = 15)\n",
    "# plt.savefig('DET_curve_desktop.png')\n",
    "plt.show()"
   ]
  },
  {
   "cell_type": "code",
   "execution_count": 31,
   "id": "49371613",
   "metadata": {},
   "outputs": [],
   "source": [
    "diff_values = [abs(fnr-fpr) for fnr, fpr in zip (mean_fnr, mean_fpr)]"
   ]
  },
  {
   "cell_type": "code",
   "execution_count": 32,
   "id": "1c3525cd",
   "metadata": {},
   "outputs": [],
   "source": [
    "min_diff_index = diff_values.index(min(diff_values))"
   ]
  },
  {
   "cell_type": "code",
   "execution_count": 33,
   "id": "99b18f83",
   "metadata": {},
   "outputs": [],
   "source": [
    "eer_fnr = mean_fnr[min_diff_index]\n",
    "eer_fpr = mean_fpr[min_diff_index]\n",
    "eer = (eer_fnr + eer_fpr)/2"
   ]
  },
  {
   "cell_type": "code",
   "execution_count": 34,
   "id": "4bc5ec4c",
   "metadata": {},
   "outputs": [
    {
     "data": {
      "text/plain": [
       "0.04062275549672682"
      ]
     },
     "execution_count": 34,
     "metadata": {},
     "output_type": "execute_result"
    }
   ],
   "source": [
    "eer"
   ]
  },
  {
   "cell_type": "code",
   "execution_count": null,
   "id": "ffbe4ba1",
   "metadata": {},
   "outputs": [],
   "source": [
    "eer"
   ]
  },
  {
   "cell_type": "code",
   "execution_count": null,
   "id": "b7c0cbc0",
   "metadata": {},
   "outputs": [],
   "source": [
    "eer_fpr"
   ]
  },
  {
   "cell_type": "code",
   "execution_count": null,
   "id": "81ef06d4",
   "metadata": {},
   "outputs": [],
   "source": [
    "eer_fnr"
   ]
  },
  {
   "cell_type": "markdown",
   "id": "195737f2",
   "metadata": {},
   "source": [
    "## AUC_ROC"
   ]
  },
  {
   "cell_type": "code",
   "execution_count": 63,
   "id": "cdfd597c",
   "metadata": {},
   "outputs": [],
   "source": [
    "fold_1_roc_auc = roc_auc_score(Final_results_df_all.iloc[:,2], Final_results_df_all.iloc[:,1])\n",
    "fold_2_roc_auc = roc_auc_score(Final_results_df_all.iloc[:,4], Final_results_df_all.iloc[:,3])\n",
    "fold_3_roc_auc = roc_auc_score(Final_results_df_all.iloc[:,6], Final_results_df_all.iloc[:,5])\n",
    "fold_4_roc_auc = roc_auc_score(Final_results_df_all.iloc[:,8], Final_results_df_all.iloc[:,7])\n",
    "fold_5_roc_auc = roc_auc_score(Final_results_df_all.iloc[:,10], Final_results_df_all.iloc[:,9])"
   ]
  },
  {
   "cell_type": "code",
   "execution_count": 65,
   "id": "54eefce5",
   "metadata": {},
   "outputs": [],
   "source": [
    "mean_roc_auc = np.mean([fold_1_roc_auc,fold_2_roc_auc,fold_3_roc_auc,fold_4_roc_auc,fold_5_roc_auc])\n",
    "std_roc_auc = np.std([fold_1_roc_auc,fold_2_roc_auc,fold_3_roc_auc,fold_4_roc_auc,fold_5_roc_auc])"
   ]
  },
  {
   "cell_type": "code",
   "execution_count": 66,
   "id": "a8b21f55",
   "metadata": {},
   "outputs": [
    {
     "data": {
      "text/plain": [
       "0.9933613121242406"
      ]
     },
     "execution_count": 66,
     "metadata": {},
     "output_type": "execute_result"
    }
   ],
   "source": [
    "mean_roc_auc"
   ]
  },
  {
   "cell_type": "code",
   "execution_count": 67,
   "id": "75862e89",
   "metadata": {},
   "outputs": [
    {
     "data": {
      "text/plain": [
       "0.0006962856933976189"
      ]
     },
     "execution_count": 67,
     "metadata": {},
     "output_type": "execute_result"
    }
   ],
   "source": [
    "std_roc_auc"
   ]
  },
  {
   "cell_type": "markdown",
   "id": "8c8108c7",
   "metadata": {},
   "source": [
    "## Accuracy and F1"
   ]
  },
  {
   "cell_type": "code",
   "execution_count": 46,
   "id": "2b803e23",
   "metadata": {},
   "outputs": [],
   "source": [
    "Fold_1_accuracy = metrics.accuracy_score(Final_results_df_all.iloc[:,2],Final_results_df_all.iloc[:,11])\n",
    "Fold_1_f1 = metrics.f1_score(Final_results_df_all.iloc[:,2],Final_results_df_all.iloc[:,11])\n",
    "# Fold_1_accuracy = metrics.accuracy_score(Final_results_df_all.iloc[:,2],Final_results_df_all.iloc[:,11])\n",
    "# Fold_1_accuracy = metrics.accuracy_score(Final_results_df_all.iloc[:,2],Final_results_df_all.iloc[:,11])"
   ]
  },
  {
   "cell_type": "code",
   "execution_count": 48,
   "id": "cd892549",
   "metadata": {},
   "outputs": [],
   "source": [
    "Fold_2_accuracy = metrics.accuracy_score(Final_results_df_all.iloc[:,4],Final_results_df_all.iloc[:,12])\n",
    "Fold_2_f1 = metrics.f1_score(Final_results_df_all.iloc[:,4],Final_results_df_all.iloc[:,12])"
   ]
  },
  {
   "cell_type": "code",
   "execution_count": 50,
   "id": "d9373ce6",
   "metadata": {},
   "outputs": [],
   "source": [
    "Fold_3_accuracy = metrics.accuracy_score(Final_results_df_all.iloc[:,6],Final_results_df_all.iloc[:,13])\n",
    "Fold_3_f1 = metrics.f1_score(Final_results_df_all.iloc[:,6],Final_results_df_all.iloc[:,13])"
   ]
  },
  {
   "cell_type": "code",
   "execution_count": 51,
   "id": "537c5f0e",
   "metadata": {},
   "outputs": [],
   "source": [
    "Fold_4_accuracy = metrics.accuracy_score(Final_results_df_all.iloc[:,8],Final_results_df_all.iloc[:,14])\n",
    "Fold_4_f1 = metrics.f1_score(Final_results_df_all.iloc[:,8],Final_results_df_all.iloc[:,14])"
   ]
  },
  {
   "cell_type": "code",
   "execution_count": 52,
   "id": "80258caa",
   "metadata": {},
   "outputs": [],
   "source": [
    "Fold_5_accuracy = metrics.accuracy_score(Final_results_df_all.iloc[:,10],Final_results_df_all.iloc[:,15])\n",
    "Fold_5_f1 = metrics.f1_score(Final_results_df_all.iloc[:,10],Final_results_df_all.iloc[:,15])"
   ]
  },
  {
   "cell_type": "code",
   "execution_count": 55,
   "id": "832f5dff",
   "metadata": {},
   "outputs": [],
   "source": [
    "mean_accuracy = np.mean([Fold_1_accuracy,Fold_2_accuracy,Fold_3_accuracy,Fold_4_accuracy,Fold_5_accuracy])\n",
    "std_accuracy = np.std([Fold_1_accuracy,Fold_2_accuracy,Fold_3_accuracy,Fold_4_accuracy,Fold_5_accuracy])"
   ]
  },
  {
   "cell_type": "code",
   "execution_count": 54,
   "id": "d5c281bc",
   "metadata": {},
   "outputs": [
    {
     "data": {
      "text/plain": [
       "0.9959747752582853"
      ]
     },
     "execution_count": 54,
     "metadata": {},
     "output_type": "execute_result"
    }
   ],
   "source": [
    "mean_accuracy"
   ]
  },
  {
   "cell_type": "code",
   "execution_count": 56,
   "id": "7298e687",
   "metadata": {},
   "outputs": [
    {
     "data": {
      "text/plain": [
       "0.00019959956282453682"
      ]
     },
     "execution_count": 56,
     "metadata": {},
     "output_type": "execute_result"
    }
   ],
   "source": [
    "std_accuracy"
   ]
  },
  {
   "cell_type": "code",
   "execution_count": 59,
   "id": "35731bec",
   "metadata": {},
   "outputs": [],
   "source": [
    "mean_f1 = np.mean([Fold_1_f1,Fold_2_f1,Fold_3_f1,Fold_4_f1,Fold_5_f1])\n",
    "std_f1 = np.std([Fold_1_f1,Fold_2_f1,Fold_3_f1,Fold_4_f1,Fold_5_f1])"
   ]
  },
  {
   "cell_type": "code",
   "execution_count": 58,
   "id": "6cc820f4",
   "metadata": {},
   "outputs": [
    {
     "data": {
      "text/plain": [
       "0.7557395542801363"
      ]
     },
     "execution_count": 58,
     "metadata": {},
     "output_type": "execute_result"
    }
   ],
   "source": [
    "mean_f1"
   ]
  },
  {
   "cell_type": "code",
   "execution_count": 60,
   "id": "1e64bbb0",
   "metadata": {},
   "outputs": [
    {
     "data": {
      "text/plain": [
       "0.0118125651592202"
      ]
     },
     "execution_count": 60,
     "metadata": {},
     "output_type": "execute_result"
    }
   ],
   "source": [
    "std_f1"
   ]
  },
  {
   "cell_type": "markdown",
   "id": "63e24f9d",
   "metadata": {},
   "source": [
    "## EER"
   ]
  },
  {
   "cell_type": "code",
   "execution_count": 69,
   "id": "7083751b",
   "metadata": {},
   "outputs": [],
   "source": [
    "diff_values1 = [abs(fnr-fpr) for fnr, fpr in zip (fnr1, fpr1)]\n",
    "diff_values2 = [abs(fnr-fpr) for fnr, fpr in zip (fnr2, fpr2)]\n",
    "diff_values3 = [abs(fnr-fpr) for fnr, fpr in zip (fnr3, fpr3)]\n",
    "diff_values4 = [abs(fnr-fpr) for fnr, fpr in zip (fnr4, fpr4)]\n",
    "diff_values5 = [abs(fnr-fpr) for fnr, fpr in zip (fnr5, fpr5)]"
   ]
  },
  {
   "cell_type": "code",
   "execution_count": 70,
   "id": "5857e7fa",
   "metadata": {},
   "outputs": [],
   "source": [
    "min_diff_index1 = diff_values1.index(min(diff_values1))\n",
    "min_diff_index2 = diff_values2.index(min(diff_values2))\n",
    "min_diff_index3 = diff_values3.index(min(diff_values3))\n",
    "min_diff_index4 = diff_values4.index(min(diff_values4))\n",
    "min_diff_index5 = diff_values5.index(min(diff_values5))"
   ]
  },
  {
   "cell_type": "code",
   "execution_count": 71,
   "id": "47c6c7bc",
   "metadata": {},
   "outputs": [],
   "source": [
    "eer_fnr1 = fnr1[min_diff_index1]\n",
    "eer_fpr1 = fpr1[min_diff_index1]\n",
    "eer1 = (eer_fnr1 + eer_fpr1)/2"
   ]
  },
  {
   "cell_type": "code",
   "execution_count": 72,
   "id": "e0032d3a",
   "metadata": {},
   "outputs": [],
   "source": [
    "eer_fnr2 = fnr2[min_diff_index2]\n",
    "eer_fpr2 = fpr2[min_diff_index2]\n",
    "eer2 = (eer_fnr2 + eer_fpr2)/2"
   ]
  },
  {
   "cell_type": "code",
   "execution_count": 73,
   "id": "0815fdd2",
   "metadata": {},
   "outputs": [],
   "source": [
    "eer_fnr3 = fnr3[min_diff_index3]\n",
    "eer_fpr3 = fpr3[min_diff_index3]\n",
    "eer3 = (eer_fnr3 + eer_fpr3)/2"
   ]
  },
  {
   "cell_type": "code",
   "execution_count": 74,
   "id": "e1b41106",
   "metadata": {},
   "outputs": [],
   "source": [
    "eer_fnr4 = fnr4[min_diff_index4]\n",
    "eer_fpr4 = fpr4[min_diff_index4]\n",
    "eer4 = (eer_fnr4 + eer_fpr4)/2"
   ]
  },
  {
   "cell_type": "code",
   "execution_count": 75,
   "id": "4ff73398",
   "metadata": {},
   "outputs": [],
   "source": [
    "eer_fnr5 = fnr5[min_diff_index5]\n",
    "eer_fpr5 = fpr5[min_diff_index5]\n",
    "eer5 = (eer_fnr5 + eer_fpr5)/2"
   ]
  },
  {
   "cell_type": "code",
   "execution_count": 78,
   "id": "8f8a4b23",
   "metadata": {},
   "outputs": [],
   "source": [
    "mean_eer = np.mean([eer1,eer2,eer3,eer4,eer5])\n",
    "std_eer = np.std([eer1,eer2,eer3,eer4,eer5])"
   ]
  },
  {
   "cell_type": "code",
   "execution_count": 77,
   "id": "d6f2214c",
   "metadata": {},
   "outputs": [
    {
     "data": {
      "text/plain": [
       "0.03897581268594262"
      ]
     },
     "execution_count": 77,
     "metadata": {},
     "output_type": "execute_result"
    }
   ],
   "source": [
    "mean_eer"
   ]
  },
  {
   "cell_type": "code",
   "execution_count": 79,
   "id": "c6daea3c",
   "metadata": {},
   "outputs": [
    {
     "data": {
      "text/plain": [
       "0.004225739513139808"
      ]
     },
     "execution_count": 79,
     "metadata": {},
     "output_type": "execute_result"
    }
   ],
   "source": [
    "std_eer"
   ]
  },
  {
   "cell_type": "code",
   "execution_count": null,
   "id": "6ee6ffea",
   "metadata": {},
   "outputs": [],
   "source": []
  }
 ],
 "metadata": {
  "kernelspec": {
   "display_name": "Python 3 (ipykernel)",
   "language": "python",
   "name": "python3"
  },
  "language_info": {
   "codemirror_mode": {
    "name": "ipython",
    "version": 3
   },
   "file_extension": ".py",
   "mimetype": "text/x-python",
   "name": "python",
   "nbconvert_exporter": "python",
   "pygments_lexer": "ipython3",
   "version": "3.9.7"
  }
 },
 "nbformat": 4,
 "nbformat_minor": 5
}
