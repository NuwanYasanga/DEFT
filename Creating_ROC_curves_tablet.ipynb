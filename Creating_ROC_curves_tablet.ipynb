{
 "cells": [
  {
   "cell_type": "code",
   "execution_count": 21,
   "id": "db18a973",
   "metadata": {},
   "outputs": [],
   "source": [
    "import pandas as pd\n",
    "import numpy as np\n",
    "import xgboost as xgb\n",
    "from imblearn.over_sampling import ADASYN\n",
    "from imblearn.over_sampling import SMOTE\n",
    "from imblearn.under_sampling import RandomUnderSampler\n",
    "from collections import Counter\n",
    "from sklearn import metrics\n",
    "from sklearn.preprocessing import StandardScaler\n",
    "from sklearn.metrics import confusion_matrix, roc_curve, precision_recall_curve, average_precision_score, roc_auc_score, auc\n",
    "from sklearn.ensemble import RandomForestClassifier\n",
    "from sklearn.svm import SVC\n",
    "from sklearn.naive_bayes import GaussianNB\n",
    "from sklearn.metrics import confusion_matrix\n",
    "from functools import reduce\n",
    "from sklearn.model_selection import GridSearchCV\n",
    "from statistics import mean, stdev\n",
    "from sklearn.model_selection import StratifiedKFold, train_test_split, cross_val_predict\n",
    "from imblearn.over_sampling import BorderlineSMOTE\n",
    "from imblearn.over_sampling import SVMSMOTE\n",
    "from imblearn.under_sampling import TomekLinks\n",
    "from matplotlib import pyplot as plt\n",
    "from sklearn.utils import class_weight"
   ]
  },
  {
   "cell_type": "code",
   "execution_count": 2,
   "id": "d5a0962a",
   "metadata": {},
   "outputs": [],
   "source": [
    "all_merged = pd.read_csv('C:/Users/s3929438/all_features_tablet_100_all_latest.csv')"
   ]
  },
  {
   "cell_type": "code",
   "execution_count": 3,
   "id": "96949681",
   "metadata": {},
   "outputs": [],
   "source": [
    "selected_features = ['mean_F1', 'mean_F2', 'mean_F3', 'mean_F4', 'Tri_graph', 'Error_rate_%',\n",
    "       'WPM', 'neg_UD_%', 'mean_hold_time', 'mean_F1_dis_1_LL',\n",
    "       'mean_F1_dis_2_LL', 'mean_F1_dis_2_RR', 'mean_F1_dis_3_LL',\n",
    "       'mean_F1_dis_3_RR', 'mean_F2_dis_0_LL', 'mean_F2_dis_1_LL',\n",
    "       'mean_F2_dis_2_LL', 'mean_F2_dis_2_RR', 'mean_F2_dis_3_LL',\n",
    "       'mean_F2_dis_3_RR', 'mean_F3_dis_0_LL', 'mean_F3_dis_1_LL',\n",
    "       'mean_F3_dis_2_LL', 'mean_F3_dis_2_RR', 'mean_F3_dis_3_LL',\n",
    "       'mean_F3_dis_3_RR', 'mean_F4_dis_0_LL', 'mean_F4_dis_1_LL',\n",
    "       'mean_F4_dis_2_LL', 'mean_F4_dis_2_RR', 'mean_F4_dis_3_LL',\n",
    "       'mean_F4_dis_3_RR', 'mean_F1_se', 'mean_F2_se', 'mean_F3_se',\n",
    "       'mean_F4_se', 'mean_F1_th', 'mean_F2_th', 'mean_F3_th', 'mean_F4_th',\n",
    "       'mean_F2_le', 'mean_F4_le']"
   ]
  },
  {
   "cell_type": "code",
   "execution_count": 22,
   "id": "348d4427",
   "metadata": {},
   "outputs": [],
   "source": [
    "round_1_prob = []\n",
    "round_2_prob = []\n",
    "round_3_prob = []\n",
    "round_4_prob = []\n",
    "round_5_prob = []\n",
    "\n",
    "round_1_lbl = []\n",
    "round_2_lbl = []\n",
    "round_3_lbl = []\n",
    "round_4_lbl = []\n",
    "round_5_lbl = []\n",
    "\n",
    "round_1_pred_lbl = []\n",
    "round_2_pred_lbl = []\n",
    "round_3_pred_lbl = []\n",
    "round_4_pred_lbl = []\n",
    "round_5_pred_lbl = []\n",
    "\n",
    "\n",
    "for a,i in enumerate (all_merged['User'].unique()):\n",
    "# for i in range (1,5):\n",
    "        user_set = all_merged[all_merged['User']==i]\n",
    "        user_id = i\n",
    "    \n",
    "        all_set  = pd.DataFrame()\n",
    "    \n",
    "        for b,j in enumerate (all_merged['User'].unique()):\n",
    "            if j != i:\n",
    "                train_set = all_merged[all_merged['User']==j]\n",
    "                all_set = all_set.append(train_set,ignore_index=True)\n",
    "            \n",
    "            \n",
    "        user_set.insert(loc = len(user_set.columns),column = 'User_type',value = 1)\n",
    "        all_set.insert(loc = len(all_set.columns),column = 'User_type',value = 0)\n",
    "    \n",
    "        final_set = user_set.append(all_set)\n",
    "    \n",
    "        X = final_set[selected_features]\n",
    "        y = final_set['User_type']\n",
    "    \n",
    "#         feature_names = (x.iloc[:,:]).columns.array\n",
    "    \n",
    "        k = 5\n",
    "        skf = StratifiedKFold(n_splits=k, shuffle=True, random_state=42)\n",
    "        resample = SMOTE(random_state=42, sampling_strategy=0.2)\n",
    "\n",
    "#         model_sl = xgb.XGBClassifier( n_estimators = 1000, colsample_bytree = 0.3,max_depth = 4,min_child_weight=2)\n",
    "\n",
    "        model_sl = xgb.XGBClassifier(max_depth =5,min_child_weight=5,learning_rate=0.1, subsample=0.7,colsample_bytree=0.5,\n",
    "                                    scale_pos_weight = 0.9)\n",
    "   \n",
    "        for s , (train_index , test_index) in enumerate (skf.split(X,y)):\n",
    "            if s==0:\n",
    "                fold_1 = []\n",
    "                labels_1 = []\n",
    "                pred_lbl1 = []\n",
    "                X_train , X_test = X.iloc[train_index,:],X.iloc[test_index,:]\n",
    "                y_train , y_test = y.iloc[train_index] , y.iloc[test_index]\n",
    "        \n",
    "                x_train_res, y_train_res = resample.fit_resample(X_train, y_train)\n",
    "        \n",
    "                model_sl.fit(x_train_res,y_train_res)\n",
    "                pred_values = model_sl.predict(X_test)\n",
    "                predict_probs = model_sl.predict_proba(X_test)\n",
    "                true_label = y_test\n",
    "        \n",
    "                fold_1.append(predict_probs[:,-1].tolist())\n",
    "                labels_1.append(true_label.to_list())\n",
    "                pred_lbl1.append(pred_values.tolist())\n",
    "            \n",
    "            elif s==1:\n",
    "                fold_2 = []\n",
    "                labels_2 = []\n",
    "                pred_lbl2 = []\n",
    "                X_train , X_test = X.iloc[train_index,:],X.iloc[test_index,:]\n",
    "                y_train , y_test = y.iloc[train_index] , y.iloc[test_index]\n",
    "        \n",
    "                x_train_res, y_train_res = resample.fit_resample(X_train, y_train)\n",
    "        \n",
    "                model_sl.fit(x_train_res,y_train_res)\n",
    "                pred_values = model_sl.predict(X_test)\n",
    "                predict_probs = model_sl.predict_proba(X_test)\n",
    "                true_label = y_test\n",
    "        \n",
    "                fold_2.append(predict_probs[:,-1].tolist())\n",
    "                labels_2.append(true_label.to_list())\n",
    "                pred_lbl2.append(pred_values.tolist())\n",
    "            \n",
    "            elif s==2:\n",
    "                fold_3 = []\n",
    "                labels_3 = []\n",
    "                pred_lbl3 = []\n",
    "                X_train , X_test = X.iloc[train_index,:],X.iloc[test_index,:]\n",
    "                y_train , y_test = y.iloc[train_index] , y.iloc[test_index]\n",
    "        \n",
    "                x_train_res, y_train_res = resample.fit_resample(X_train, y_train)\n",
    "        \n",
    "                model_sl.fit(x_train_res,y_train_res)\n",
    "                pred_values = model_sl.predict(X_test)\n",
    "                predict_probs = model_sl.predict_proba(X_test)\n",
    "                true_label = y_test\n",
    "        \n",
    "                fold_3.append(predict_probs[:,-1].tolist())\n",
    "                labels_3.append(true_label.to_list())\n",
    "                pred_lbl3.append(pred_values.tolist())\n",
    "            \n",
    "            elif s==3:\n",
    "                fold_4 = []\n",
    "                labels_4 = []\n",
    "                pred_lbl4 = []\n",
    "                X_train , X_test = X.iloc[train_index,:],X.iloc[test_index,:]\n",
    "                y_train , y_test = y.iloc[train_index] , y.iloc[test_index]\n",
    "        \n",
    "                x_train_res, y_train_res = resample.fit_resample(X_train, y_train)\n",
    "        \n",
    "                model_sl.fit(x_train_res,y_train_res)\n",
    "                pred_values = model_sl.predict(X_test)\n",
    "                predict_probs = model_sl.predict_proba(X_test)\n",
    "                true_label = y_test\n",
    "        \n",
    "                fold_4.append(predict_probs[:,-1].tolist())\n",
    "                labels_4.append(true_label.to_list())\n",
    "                pred_lbl4.append(pred_values.tolist())\n",
    "                \n",
    "            elif s==4:\n",
    "                fold_5 = []\n",
    "                labels_5 = []\n",
    "                pred_lbl5 = []\n",
    "                X_train , X_test = X.iloc[train_index,:],X.iloc[test_index,:]\n",
    "                y_train , y_test = y.iloc[train_index] , y.iloc[test_index]\n",
    "        \n",
    "                x_train_res, y_train_res = resample.fit_resample(X_train, y_train)\n",
    "        \n",
    "                model_sl.fit(x_train_res,y_train_res)\n",
    "                pred_values = model_sl.predict(X_test)\n",
    "                predict_probs = model_sl.predict_proba(X_test)\n",
    "                true_label = y_test\n",
    "        \n",
    "                fold_5.append(predict_probs[:,-1].tolist())\n",
    "                labels_5.append(true_label.to_list())\n",
    "                pred_lbl5.append(pred_values.tolist())\n",
    "                \n",
    "        round_1_prob.append(fold_1[0])\n",
    "        round_2_prob.append(fold_2[0])\n",
    "        round_3_prob.append(fold_3[0])\n",
    "        round_4_prob.append(fold_4[0])\n",
    "        round_5_prob.append(fold_5[0])\n",
    "        \n",
    "        round_1_lbl.append(labels_1[0])\n",
    "        round_2_lbl.append(labels_2[0])\n",
    "        round_3_lbl.append(labels_3[0])\n",
    "        round_4_lbl.append(labels_4[0])\n",
    "        round_5_lbl.append(labels_5[0])\n",
    "        \n",
    "        round_1_pred_lbl.append(pred_lbl1[0])\n",
    "        round_2_pred_lbl.append(pred_lbl2[0])\n",
    "        round_3_pred_lbl.append(pred_lbl3[0])\n",
    "        round_4_pred_lbl.append(pred_lbl4[0])\n",
    "        round_5_pred_lbl.append(pred_lbl5[0])"
   ]
  },
  {
   "cell_type": "code",
   "execution_count": 23,
   "id": "a43783da",
   "metadata": {},
   "outputs": [],
   "source": [
    "for z in range (0,116):\n",
    "    if z == 0:\n",
    "        append_all_fold1 = round_1_prob[z]\n",
    "        append_all_label1 = round_1_lbl[z]\n",
    "        append_all_pred_label1 = round_1_pred_lbl[z]\n",
    "    else:\n",
    "        append_all_fold1 = append_all_fold1 + round_1_prob[z]\n",
    "        append_all_label1 = append_all_label1 + round_1_lbl[z]\n",
    "        append_all_pred_label1 = append_all_pred_label1 + round_1_pred_lbl[z]\n",
    "        \n",
    "for z in range (0,116):\n",
    "    if z == 0:\n",
    "        append_all_fold2 = round_2_prob[z]\n",
    "        append_all_label2 = round_2_lbl[z]\n",
    "        append_all_pred_label2 = round_2_pred_lbl[z]\n",
    "    else:\n",
    "        append_all_fold2 = append_all_fold2 + round_2_prob[z]\n",
    "        append_all_label2 = append_all_label2 + round_2_lbl[z]\n",
    "        append_all_pred_label2 = append_all_pred_label2 + round_2_pred_lbl[z]\n",
    "        \n",
    "for z in range (0,116):\n",
    "    if z == 0:\n",
    "        append_all_fold3 = round_3_prob[z]\n",
    "        append_all_label3 = round_3_lbl[z]\n",
    "        append_all_pred_label3 = round_3_pred_lbl[z]\n",
    "    else:\n",
    "        append_all_fold3 = append_all_fold3 + round_3_prob[z]\n",
    "        append_all_label3 = append_all_label3 + round_3_lbl[z]\n",
    "        append_all_pred_label3 = append_all_pred_label3 + round_3_pred_lbl[z]\n",
    "        \n",
    "for z in range (0,116):\n",
    "    if z == 0:\n",
    "        append_all_fold4 = round_4_prob[z]\n",
    "        append_all_label4 = round_4_lbl[z]\n",
    "        append_all_pred_label4 = round_4_pred_lbl[z]\n",
    "    else:\n",
    "        append_all_fold4 = append_all_fold4 + round_4_prob[z]\n",
    "        append_all_label4 = append_all_label4 + round_4_lbl[z]\n",
    "        append_all_pred_label4 = append_all_pred_label4 + round_4_pred_lbl[z]\n",
    "        \n",
    "for z in range (0,116):\n",
    "    if z == 0:\n",
    "        append_all_fold5 = round_5_prob[z]\n",
    "        append_all_label5 = round_5_lbl[z]\n",
    "        append_all_pred_label5 = round_5_pred_lbl[z]\n",
    "    else:\n",
    "        append_all_fold5 = append_all_fold5 + round_5_prob[z]\n",
    "        append_all_label5 = append_all_label5 + round_5_lbl[z]\n",
    "        append_all_pred_label5 = append_all_pred_label5 + round_5_pred_lbl[z]"
   ]
  },
  {
   "cell_type": "code",
   "execution_count": 24,
   "id": "4e45f2f5",
   "metadata": {},
   "outputs": [],
   "source": [
    "Final_results_df_all = pd.DataFrame(list(zip(append_all_fold1,append_all_label1,append_all_fold2,append_all_label2,\n",
    "                                             append_all_fold3,append_all_label3, append_all_fold4,append_all_label4,\n",
    "                                             append_all_fold5, append_all_label5,append_all_pred_label1,append_all_pred_label2,\n",
    "                                            append_all_pred_label3,append_all_pred_label4,append_all_pred_label5)),\n",
    "        columns =['Fold_1_pro','Fold_1_tl', 'Fold_2_pro', 'Fold_2_tl','Fold_3_pro','Fold_3_tl','Fold_4_pro','Fold_4_tl',\n",
    "                  'Fold_5_pro', 'Fold_5_tl','Fold_1_pl','Fold_2_pl','Fold_3_pl','Fold_4_pl','Fold_5_pl'])"
   ]
  },
  {
   "cell_type": "code",
   "execution_count": 25,
   "id": "d9dff0a4",
   "metadata": {},
   "outputs": [
    {
     "data": {
      "text/html": [
       "<div>\n",
       "<style scoped>\n",
       "    .dataframe tbody tr th:only-of-type {\n",
       "        vertical-align: middle;\n",
       "    }\n",
       "\n",
       "    .dataframe tbody tr th {\n",
       "        vertical-align: top;\n",
       "    }\n",
       "\n",
       "    .dataframe thead th {\n",
       "        text-align: right;\n",
       "    }\n",
       "</style>\n",
       "<table border=\"1\" class=\"dataframe\">\n",
       "  <thead>\n",
       "    <tr style=\"text-align: right;\">\n",
       "      <th></th>\n",
       "      <th>Fold_1_pro</th>\n",
       "      <th>Fold_1_tl</th>\n",
       "      <th>Fold_2_pro</th>\n",
       "      <th>Fold_2_tl</th>\n",
       "      <th>Fold_3_pro</th>\n",
       "      <th>Fold_3_tl</th>\n",
       "      <th>Fold_4_pro</th>\n",
       "      <th>Fold_4_tl</th>\n",
       "      <th>Fold_5_pro</th>\n",
       "      <th>Fold_5_tl</th>\n",
       "      <th>Fold_1_pl</th>\n",
       "      <th>Fold_2_pl</th>\n",
       "      <th>Fold_3_pl</th>\n",
       "      <th>Fold_4_pl</th>\n",
       "      <th>Fold_5_pl</th>\n",
       "    </tr>\n",
       "  </thead>\n",
       "  <tbody>\n",
       "    <tr>\n",
       "      <th>0</th>\n",
       "      <td>0.876685</td>\n",
       "      <td>1</td>\n",
       "      <td>0.015262</td>\n",
       "      <td>1</td>\n",
       "      <td>0.948082</td>\n",
       "      <td>1</td>\n",
       "      <td>0.945154</td>\n",
       "      <td>1</td>\n",
       "      <td>0.991179</td>\n",
       "      <td>1</td>\n",
       "      <td>1</td>\n",
       "      <td>0</td>\n",
       "      <td>1</td>\n",
       "      <td>1</td>\n",
       "      <td>1</td>\n",
       "    </tr>\n",
       "    <tr>\n",
       "      <th>1</th>\n",
       "      <td>0.951601</td>\n",
       "      <td>1</td>\n",
       "      <td>0.897808</td>\n",
       "      <td>1</td>\n",
       "      <td>0.635889</td>\n",
       "      <td>1</td>\n",
       "      <td>0.373887</td>\n",
       "      <td>1</td>\n",
       "      <td>0.650408</td>\n",
       "      <td>1</td>\n",
       "      <td>1</td>\n",
       "      <td>1</td>\n",
       "      <td>1</td>\n",
       "      <td>0</td>\n",
       "      <td>1</td>\n",
       "    </tr>\n",
       "    <tr>\n",
       "      <th>2</th>\n",
       "      <td>0.215016</td>\n",
       "      <td>1</td>\n",
       "      <td>0.198731</td>\n",
       "      <td>1</td>\n",
       "      <td>0.981447</td>\n",
       "      <td>1</td>\n",
       "      <td>0.172591</td>\n",
       "      <td>1</td>\n",
       "      <td>0.934444</td>\n",
       "      <td>1</td>\n",
       "      <td>0</td>\n",
       "      <td>0</td>\n",
       "      <td>1</td>\n",
       "      <td>0</td>\n",
       "      <td>1</td>\n",
       "    </tr>\n",
       "    <tr>\n",
       "      <th>3</th>\n",
       "      <td>0.849468</td>\n",
       "      <td>1</td>\n",
       "      <td>0.603672</td>\n",
       "      <td>1</td>\n",
       "      <td>0.052768</td>\n",
       "      <td>1</td>\n",
       "      <td>0.084690</td>\n",
       "      <td>1</td>\n",
       "      <td>0.975702</td>\n",
       "      <td>1</td>\n",
       "      <td>1</td>\n",
       "      <td>1</td>\n",
       "      <td>0</td>\n",
       "      <td>0</td>\n",
       "      <td>1</td>\n",
       "    </tr>\n",
       "    <tr>\n",
       "      <th>4</th>\n",
       "      <td>0.010787</td>\n",
       "      <td>1</td>\n",
       "      <td>0.029885</td>\n",
       "      <td>1</td>\n",
       "      <td>0.001118</td>\n",
       "      <td>1</td>\n",
       "      <td>0.030941</td>\n",
       "      <td>1</td>\n",
       "      <td>0.280892</td>\n",
       "      <td>1</td>\n",
       "      <td>0</td>\n",
       "      <td>0</td>\n",
       "      <td>0</td>\n",
       "      <td>0</td>\n",
       "      <td>0</td>\n",
       "    </tr>\n",
       "    <tr>\n",
       "      <th>...</th>\n",
       "      <td>...</td>\n",
       "      <td>...</td>\n",
       "      <td>...</td>\n",
       "      <td>...</td>\n",
       "      <td>...</td>\n",
       "      <td>...</td>\n",
       "      <td>...</td>\n",
       "      <td>...</td>\n",
       "      <td>...</td>\n",
       "      <td>...</td>\n",
       "      <td>...</td>\n",
       "      <td>...</td>\n",
       "      <td>...</td>\n",
       "      <td>...</td>\n",
       "      <td>...</td>\n",
       "    </tr>\n",
       "    <tr>\n",
       "      <th>118547</th>\n",
       "      <td>0.000877</td>\n",
       "      <td>0</td>\n",
       "      <td>0.000894</td>\n",
       "      <td>0</td>\n",
       "      <td>0.000436</td>\n",
       "      <td>0</td>\n",
       "      <td>0.001069</td>\n",
       "      <td>0</td>\n",
       "      <td>0.000585</td>\n",
       "      <td>0</td>\n",
       "      <td>0</td>\n",
       "      <td>0</td>\n",
       "      <td>0</td>\n",
       "      <td>0</td>\n",
       "      <td>0</td>\n",
       "    </tr>\n",
       "    <tr>\n",
       "      <th>118548</th>\n",
       "      <td>0.000742</td>\n",
       "      <td>0</td>\n",
       "      <td>0.000514</td>\n",
       "      <td>0</td>\n",
       "      <td>0.000751</td>\n",
       "      <td>0</td>\n",
       "      <td>0.000425</td>\n",
       "      <td>0</td>\n",
       "      <td>0.000427</td>\n",
       "      <td>0</td>\n",
       "      <td>0</td>\n",
       "      <td>0</td>\n",
       "      <td>0</td>\n",
       "      <td>0</td>\n",
       "      <td>0</td>\n",
       "    </tr>\n",
       "    <tr>\n",
       "      <th>118549</th>\n",
       "      <td>0.000759</td>\n",
       "      <td>0</td>\n",
       "      <td>0.000770</td>\n",
       "      <td>0</td>\n",
       "      <td>0.000346</td>\n",
       "      <td>0</td>\n",
       "      <td>0.002740</td>\n",
       "      <td>0</td>\n",
       "      <td>0.000649</td>\n",
       "      <td>0</td>\n",
       "      <td>0</td>\n",
       "      <td>0</td>\n",
       "      <td>0</td>\n",
       "      <td>0</td>\n",
       "      <td>0</td>\n",
       "    </tr>\n",
       "    <tr>\n",
       "      <th>118550</th>\n",
       "      <td>0.000562</td>\n",
       "      <td>0</td>\n",
       "      <td>0.000693</td>\n",
       "      <td>0</td>\n",
       "      <td>0.000316</td>\n",
       "      <td>0</td>\n",
       "      <td>0.000293</td>\n",
       "      <td>0</td>\n",
       "      <td>0.000625</td>\n",
       "      <td>0</td>\n",
       "      <td>0</td>\n",
       "      <td>0</td>\n",
       "      <td>0</td>\n",
       "      <td>0</td>\n",
       "      <td>0</td>\n",
       "    </tr>\n",
       "    <tr>\n",
       "      <th>118551</th>\n",
       "      <td>0.000809</td>\n",
       "      <td>0</td>\n",
       "      <td>0.000376</td>\n",
       "      <td>0</td>\n",
       "      <td>0.000652</td>\n",
       "      <td>0</td>\n",
       "      <td>0.000778</td>\n",
       "      <td>0</td>\n",
       "      <td>0.000454</td>\n",
       "      <td>0</td>\n",
       "      <td>0</td>\n",
       "      <td>0</td>\n",
       "      <td>0</td>\n",
       "      <td>0</td>\n",
       "      <td>0</td>\n",
       "    </tr>\n",
       "  </tbody>\n",
       "</table>\n",
       "<p>118552 rows × 15 columns</p>\n",
       "</div>"
      ],
      "text/plain": [
       "        Fold_1_pro  Fold_1_tl  Fold_2_pro  Fold_2_tl  Fold_3_pro  Fold_3_tl  \\\n",
       "0         0.876685          1    0.015262          1    0.948082          1   \n",
       "1         0.951601          1    0.897808          1    0.635889          1   \n",
       "2         0.215016          1    0.198731          1    0.981447          1   \n",
       "3         0.849468          1    0.603672          1    0.052768          1   \n",
       "4         0.010787          1    0.029885          1    0.001118          1   \n",
       "...            ...        ...         ...        ...         ...        ...   \n",
       "118547    0.000877          0    0.000894          0    0.000436          0   \n",
       "118548    0.000742          0    0.000514          0    0.000751          0   \n",
       "118549    0.000759          0    0.000770          0    0.000346          0   \n",
       "118550    0.000562          0    0.000693          0    0.000316          0   \n",
       "118551    0.000809          0    0.000376          0    0.000652          0   \n",
       "\n",
       "        Fold_4_pro  Fold_4_tl  Fold_5_pro  Fold_5_tl  Fold_1_pl  Fold_2_pl  \\\n",
       "0         0.945154          1    0.991179          1          1          0   \n",
       "1         0.373887          1    0.650408          1          1          1   \n",
       "2         0.172591          1    0.934444          1          0          0   \n",
       "3         0.084690          1    0.975702          1          1          1   \n",
       "4         0.030941          1    0.280892          1          0          0   \n",
       "...            ...        ...         ...        ...        ...        ...   \n",
       "118547    0.001069          0    0.000585          0          0          0   \n",
       "118548    0.000425          0    0.000427          0          0          0   \n",
       "118549    0.002740          0    0.000649          0          0          0   \n",
       "118550    0.000293          0    0.000625          0          0          0   \n",
       "118551    0.000778          0    0.000454          0          0          0   \n",
       "\n",
       "        Fold_3_pl  Fold_4_pl  Fold_5_pl  \n",
       "0               1          1          1  \n",
       "1               1          0          1  \n",
       "2               1          0          1  \n",
       "3               0          0          1  \n",
       "4               0          0          0  \n",
       "...           ...        ...        ...  \n",
       "118547          0          0          0  \n",
       "118548          0          0          0  \n",
       "118549          0          0          0  \n",
       "118550          0          0          0  \n",
       "118551          0          0          0  \n",
       "\n",
       "[118552 rows x 15 columns]"
      ]
     },
     "execution_count": 25,
     "metadata": {},
     "output_type": "execute_result"
    }
   ],
   "source": [
    "Final_results_df_all"
   ]
  },
  {
   "cell_type": "code",
   "execution_count": 27,
   "id": "bcd9c9d4",
   "metadata": {},
   "outputs": [],
   "source": [
    "Final_results_df_all.to_csv('Probabilities_XGboost_tablet.csv')"
   ]
  },
  {
   "cell_type": "code",
   "execution_count": 28,
   "id": "bf9f281b",
   "metadata": {},
   "outputs": [],
   "source": [
    "Final_results_df_all = pd.read_csv('C:/Users/s3929438/Probabilities_XGboost_tablet.csv')"
   ]
  },
  {
   "cell_type": "code",
   "execution_count": 29,
   "id": "4a02aeab",
   "metadata": {},
   "outputs": [],
   "source": [
    "fpr1, tpr1, _ = roc_curve(Final_results_df_all.iloc[:,2], Final_results_df_all.iloc[:,1])\n",
    "fpr2, tpr2, _ = roc_curve(Final_results_df_all.iloc[:,4], Final_results_df_all.iloc[:,3])\n",
    "fpr3, tpr3, _ = roc_curve(Final_results_df_all.iloc[:,6], Final_results_df_all.iloc[:,5])\n",
    "fpr4, tpr4, _ = roc_curve(Final_results_df_all.iloc[:,8], Final_results_df_all.iloc[:,7])\n",
    "fpr5, tpr5, _ = roc_curve(Final_results_df_all.iloc[:,10], Final_results_df_all.iloc[:,9])"
   ]
  },
  {
   "cell_type": "code",
   "execution_count": 7,
   "id": "fdcd5bbc",
   "metadata": {},
   "outputs": [],
   "source": [
    "# fpr1, tpr1, _ = roc_curve(Final_results_df_all.iloc[:,1], Final_results_df_all.iloc[:,0])\n",
    "# fpr2, tpr2, _ = roc_curve(Final_results_df_all.iloc[:,3], Final_results_df_all.iloc[:,2])\n",
    "# fpr3, tpr3, _ = roc_curve(Final_results_df_all.iloc[:,5], Final_results_df_all.iloc[:,4])\n",
    "# fpr4, tpr4, _ = roc_curve(Final_results_df_all.iloc[:,7], Final_results_df_all.iloc[:,6])\n",
    "# fpr5, tpr5, _ = roc_curve(Final_results_df_all.iloc[:,9], Final_results_df_all.iloc[:,8])"
   ]
  },
  {
   "cell_type": "code",
   "execution_count": 30,
   "id": "d75f42c4",
   "metadata": {},
   "outputs": [],
   "source": [
    "fnr1 = [1-x for x in tpr1]\n",
    "fnr2 = [1-x for x in tpr2]\n",
    "fnr3 = [1-x for x in tpr3]\n",
    "fnr4 = [1-x for x in tpr4]\n",
    "fnr5 = [1-x for x in tpr5]"
   ]
  },
  {
   "cell_type": "code",
   "execution_count": 31,
   "id": "31aee8e5",
   "metadata": {},
   "outputs": [],
   "source": [
    "fpr_list = [fpr1, fpr2,fpr3,fpr4,fpr5]\n",
    "tpr_list = [tpr1, tpr2,tpr3,tpr4,tpr5]\n",
    "fnr_list = [fnr1, fnr2,fnr3,fnr4,fnr5]"
   ]
  },
  {
   "cell_type": "code",
   "execution_count": 10,
   "id": "272f1a68",
   "metadata": {},
   "outputs": [],
   "source": [
    "max_length = max(len(fprs) for fprs in fpr_list)"
   ]
  },
  {
   "cell_type": "code",
   "execution_count": 11,
   "id": "6f76ec35",
   "metadata": {},
   "outputs": [
    {
     "data": {
      "text/plain": [
       "4220"
      ]
     },
     "execution_count": 11,
     "metadata": {},
     "output_type": "execute_result"
    }
   ],
   "source": [
    "max_length"
   ]
  },
  {
   "cell_type": "code",
   "execution_count": 12,
   "id": "099d7998",
   "metadata": {},
   "outputs": [],
   "source": [
    "for i in range(0,5):\n",
    "    if len(fpr_list[i]) < max_length:\n",
    "        fpr_list[i] = np.pad(fpr_list[i], (0, max_length - len(fpr_list[i])), constant_values=1)"
   ]
  },
  {
   "cell_type": "code",
   "execution_count": 13,
   "id": "6b4dbf2b",
   "metadata": {},
   "outputs": [],
   "source": [
    "for i in range(0,5):\n",
    "    if len(tpr_list[i]) < max_length:\n",
    "        tpr_list[i] = np.pad(tpr_list[i], (0, max_length - len(tpr_list[i])), constant_values=1)"
   ]
  },
  {
   "cell_type": "code",
   "execution_count": 14,
   "id": "378357ed",
   "metadata": {},
   "outputs": [],
   "source": [
    "for i in range(0,5):\n",
    "    if len(fnr_list[i]) < max_length:\n",
    "        fnr_list[i] = np.pad(fnr_list[i], (0, max_length - len(fnr_list[i])), constant_values=0)"
   ]
  },
  {
   "cell_type": "code",
   "execution_count": 15,
   "id": "328568a3",
   "metadata": {},
   "outputs": [],
   "source": [
    "mean_fpr = np.mean(fpr_list, axis=0)\n",
    "mean_tpr = np.mean(tpr_list, axis=0)\n",
    "mean_fnr = np.mean(fnr_list, axis=0)"
   ]
  },
  {
   "cell_type": "code",
   "execution_count": 18,
   "id": "e24a0838",
   "metadata": {},
   "outputs": [
    {
     "data": {
      "image/png": "[encoded data removed]",
      "text/plain": [
       "<Figure size 720x720 with 1 Axes>"
      ]
     },
     "metadata": {
      "needs_background": "light"
     },
     "output_type": "display_data"
    }
   ],
   "source": [
    "fig,ax = plt.subplots(figsize = (10,10))\n",
    "plt.plot(mean_fpr, mean_tpr)\n",
    "\n",
    "plt.plot([0, 1], [0, 1],'r--')\n",
    "plt.xlabel('False Positive Rate')\n",
    "plt.ylabel('True Positive Rate')\n",
    "\n",
    "plt.show()"
   ]
  },
  {
   "cell_type": "code",
   "execution_count": 14,
   "id": "b49a2183",
   "metadata": {},
   "outputs": [
    {
     "data": {
      "image/png": "[encoded data removed]",
      "text/plain": [
       "<Figure size 720x720 with 1 Axes>"
      ]
     },
     "metadata": {
      "needs_background": "light"
     },
     "output_type": "display_data"
    }
   ],
   "source": [
    "fig,ax = plt.subplots(figsize = (10,10))\n",
    "plt.plot(mean_fpr*100,mean_fnr*100)\n",
    "plt.plot([0, 100], [0, 100],'r--')\n",
    "ax.set_xlabel('False Positive Rate %', fontsize = 24, labelpad=15)\n",
    "ax.set_ylabel('False Negative Rate %', fontsize = 24, labelpad=15)\n",
    "ax.xaxis.set_tick_params(labelsize = 15)\n",
    "ax.yaxis.set_tick_params(labelsize = 15)\n",
    "plt.savefig('DET_curve_tablet.png')\n",
    "plt.show()"
   ]
  },
  {
   "cell_type": "code",
   "execution_count": 16,
   "id": "6c5b4c9c",
   "metadata": {},
   "outputs": [],
   "source": [
    "diff_values = [abs(fnr-fpr) for fnr, fpr in zip (mean_fnr, mean_fpr)]"
   ]
  },
  {
   "cell_type": "code",
   "execution_count": 17,
   "id": "e36e97a6",
   "metadata": {},
   "outputs": [],
   "source": [
    "min_diff_index = diff_values.index(min(diff_values))"
   ]
  },
  {
   "cell_type": "code",
   "execution_count": 18,
   "id": "4f3d5f55",
   "metadata": {},
   "outputs": [],
   "source": [
    "eer_fnr = mean_fnr[min_diff_index]\n",
    "eer_fpr = mean_fpr[min_diff_index]\n",
    "eer = (eer_fnr + eer_fpr)/2"
   ]
  },
  {
   "cell_type": "code",
   "execution_count": 59,
   "id": "22c08f49",
   "metadata": {},
   "outputs": [
    {
     "data": {
      "text/plain": [
       "0.09891299268451043"
      ]
     },
     "execution_count": 59,
     "metadata": {},
     "output_type": "execute_result"
    }
   ],
   "source": [
    "eer"
   ]
  },
  {
   "cell_type": "code",
   "execution_count": 19,
   "id": "49f21271",
   "metadata": {},
   "outputs": [
    {
     "data": {
      "text/plain": [
       "0.09810349240308394"
      ]
     },
     "execution_count": 19,
     "metadata": {},
     "output_type": "execute_result"
    }
   ],
   "source": [
    "eer"
   ]
  },
  {
   "cell_type": "code",
   "execution_count": null,
   "id": "84079a6a",
   "metadata": {},
   "outputs": [],
   "source": []
  },
  {
   "cell_type": "code",
   "execution_count": null,
   "id": "59955e3a",
   "metadata": {},
   "outputs": [],
   "source": []
  },
  {
   "cell_type": "code",
   "execution_count": 24,
   "id": "a3d36e0d",
   "metadata": {},
   "outputs": [],
   "source": [
    "tablet = pd.read_csv('C:/Users/s3929438/Probabilities_XGboost_tablet.csv')"
   ]
  },
  {
   "cell_type": "code",
   "execution_count": 25,
   "id": "5b797d9e",
   "metadata": {},
   "outputs": [],
   "source": [
    "pre1, rec1, _ = precision_recall_curve(tablet.iloc[:,2], tablet.iloc[:,1])\n",
    "pre2, rec2, _ = precision_recall_curve(tablet.iloc[:,4], tablet.iloc[:,3])\n",
    "pre3, rec3, _ = precision_recall_curve(tablet.iloc[:,6], tablet.iloc[:,5])\n",
    "pre4, rec4, _ = precision_recall_curve(tablet.iloc[:,8], tablet.iloc[:,7])\n",
    "pre5, rec5, _ = precision_recall_curve(tablet.iloc[:,10],tablet.iloc[:,9])"
   ]
  },
  {
   "cell_type": "code",
   "execution_count": 26,
   "id": "2b6b1f56",
   "metadata": {},
   "outputs": [],
   "source": [
    "pre_list = [pre1,pre2,pre3,pre4,pre5]\n",
    "rec_list = [rec1,rec2,rec3,rec4,rec5]"
   ]
  },
  {
   "cell_type": "code",
   "execution_count": 27,
   "id": "0ab38681",
   "metadata": {},
   "outputs": [],
   "source": [
    "max_length = max(len(pres) for pres in pre_list)"
   ]
  },
  {
   "cell_type": "code",
   "execution_count": 28,
   "id": "3b2048ce",
   "metadata": {},
   "outputs": [],
   "source": [
    "for i in range(0,5):\n",
    "    if len(pre_list[i]) < max_length:\n",
    "        pre_list[i] = np.pad(pre_list[i], (0, max_length - len(pre_list[i])), constant_values=1)"
   ]
  },
  {
   "cell_type": "code",
   "execution_count": 29,
   "id": "35c75ab7",
   "metadata": {},
   "outputs": [],
   "source": [
    "for i in range(0,5):\n",
    "    if len(rec_list[i]) < max_length:\n",
    "        rec_list[i] = np.pad(rec_list[i], (0, max_length - len(rec_list[i])), constant_values=0)"
   ]
  },
  {
   "cell_type": "code",
   "execution_count": 30,
   "id": "86dc96ab",
   "metadata": {},
   "outputs": [],
   "source": [
    "mean_pre = np.mean(pre_list, axis=0)\n",
    "mean_rec = np.mean(rec_list, axis=0)"
   ]
  },
  {
   "cell_type": "code",
   "execution_count": 33,
   "id": "d52da2d8",
   "metadata": {},
   "outputs": [],
   "source": [
    "diff_values = [abs(fnr-fpr) for fnr, fpr in zip (mean_pre, mean_rec)]"
   ]
  },
  {
   "cell_type": "code",
   "execution_count": 34,
   "id": "17d881a0",
   "metadata": {},
   "outputs": [],
   "source": [
    "min_diff_index = diff_values.index(min(diff_values))"
   ]
  },
  {
   "cell_type": "code",
   "execution_count": 35,
   "id": "ae123001",
   "metadata": {},
   "outputs": [],
   "source": [
    "opti_pre = mean_pre[min_diff_index]\n",
    "opti_rec = mean_rec[min_diff_index]\n",
    "opti = (opti_pre + opti_rec)/2"
   ]
  },
  {
   "cell_type": "code",
   "execution_count": 36,
   "id": "16a1499c",
   "metadata": {},
   "outputs": [
    {
     "data": {
      "text/plain": [
       "0.5960203511212787"
      ]
     },
     "execution_count": 36,
     "metadata": {},
     "output_type": "execute_result"
    }
   ],
   "source": [
    "opti"
   ]
  },
  {
   "cell_type": "code",
   "execution_count": 32,
   "id": "feeb2402",
   "metadata": {},
   "outputs": [
    {
     "data": {
      "text/plain": [
       "[<matplotlib.lines.Line2D at 0x1ac504c6ca0>]"
      ]
     },
     "execution_count": 32,
     "metadata": {},
     "output_type": "execute_result"
    },
    {
     "data": {
      "image/png": "[encoded data removed]",
      "text/plain": [
       "<Figure size 432x288 with 1 Axes>"
      ]
     },
     "metadata": {
      "needs_background": "light"
     },
     "output_type": "display_data"
    }
   ],
   "source": [
    "plt.plot(mean_rec, mean_pre, color='b')"
   ]
  },
  {
   "cell_type": "code",
   "execution_count": 29,
   "id": "2c4757c1",
   "metadata": {},
   "outputs": [],
   "source": [
    "average_precision = average_precision_score(tablet.iloc[:,4], tablet.iloc[:,3])"
   ]
  },
  {
   "cell_type": "code",
   "execution_count": 14,
   "id": "11864e03",
   "metadata": {},
   "outputs": [
    {
     "data": {
      "text/plain": [
       "array([1.00000000e+00, 1.00000000e+00, 1.00000000e+00, ...,\n",
       "       1.87617261e-03, 9.38086304e-04, 0.00000000e+00])"
      ]
     },
     "execution_count": 14,
     "metadata": {},
     "output_type": "execute_result"
    }
   ],
   "source": [
    "rec1"
   ]
  },
  {
   "cell_type": "code",
   "execution_count": 30,
   "id": "f6028d1c",
   "metadata": {},
   "outputs": [
    {
     "data": {
      "text/plain": [
       "0.6621127081808755"
      ]
     },
     "execution_count": 30,
     "metadata": {},
     "output_type": "execute_result"
    }
   ],
   "source": [
    "average_precision"
   ]
  },
  {
   "cell_type": "markdown",
   "id": "2fa377ce",
   "metadata": {},
   "source": [
    "## ROC_AUC"
   ]
  },
  {
   "cell_type": "code",
   "execution_count": 32,
   "id": "f97465d3",
   "metadata": {},
   "outputs": [],
   "source": [
    "fold_1_roc_auc = roc_auc_score(Final_results_df_all.iloc[:,2], Final_results_df_all.iloc[:,1])\n",
    "fold_2_roc_auc = roc_auc_score(Final_results_df_all.iloc[:,4], Final_results_df_all.iloc[:,3])\n",
    "fold_3_roc_auc = roc_auc_score(Final_results_df_all.iloc[:,6], Final_results_df_all.iloc[:,5])\n",
    "fold_4_roc_auc = roc_auc_score(Final_results_df_all.iloc[:,8], Final_results_df_all.iloc[:,7])\n",
    "fold_5_roc_auc = roc_auc_score(Final_results_df_all.iloc[:,10], Final_results_df_all.iloc[:,9])"
   ]
  },
  {
   "cell_type": "code",
   "execution_count": 33,
   "id": "3996b9d9",
   "metadata": {},
   "outputs": [],
   "source": [
    "mean_roc_auc = np.mean([fold_1_roc_auc,fold_2_roc_auc,fold_3_roc_auc,fold_4_roc_auc,fold_5_roc_auc])\n",
    "std_roc_auc = np.std([fold_1_roc_auc,fold_2_roc_auc,fold_3_roc_auc,fold_4_roc_auc,fold_5_roc_auc])"
   ]
  },
  {
   "cell_type": "code",
   "execution_count": 34,
   "id": "df33e954",
   "metadata": {},
   "outputs": [
    {
     "data": {
      "text/plain": [
       "0.967397186423168"
      ]
     },
     "execution_count": 34,
     "metadata": {},
     "output_type": "execute_result"
    }
   ],
   "source": [
    "mean_roc_auc"
   ]
  },
  {
   "cell_type": "code",
   "execution_count": 35,
   "id": "7743bd92",
   "metadata": {},
   "outputs": [
    {
     "data": {
      "text/plain": [
       "0.004243021155879675"
      ]
     },
     "execution_count": 35,
     "metadata": {},
     "output_type": "execute_result"
    }
   ],
   "source": [
    "std_roc_auc"
   ]
  },
  {
   "cell_type": "markdown",
   "id": "80332706",
   "metadata": {},
   "source": [
    "## Accuracy and F1"
   ]
  },
  {
   "cell_type": "code",
   "execution_count": 36,
   "id": "1589b190",
   "metadata": {},
   "outputs": [],
   "source": [
    "Fold_1_accuracy = metrics.accuracy_score(Final_results_df_all.iloc[:,2],Final_results_df_all.iloc[:,11])\n",
    "Fold_1_f1 = metrics.f1_score(Final_results_df_all.iloc[:,2],Final_results_df_all.iloc[:,11])"
   ]
  },
  {
   "cell_type": "code",
   "execution_count": 37,
   "id": "58a50d5e",
   "metadata": {},
   "outputs": [],
   "source": [
    "Fold_2_accuracy = metrics.accuracy_score(Final_results_df_all.iloc[:,4],Final_results_df_all.iloc[:,12])\n",
    "Fold_2_f1 = metrics.f1_score(Final_results_df_all.iloc[:,4],Final_results_df_all.iloc[:,12])"
   ]
  },
  {
   "cell_type": "code",
   "execution_count": 38,
   "id": "0c39410b",
   "metadata": {},
   "outputs": [],
   "source": [
    "Fold_3_accuracy = metrics.accuracy_score(Final_results_df_all.iloc[:,6],Final_results_df_all.iloc[:,13])\n",
    "Fold_3_f1 = metrics.f1_score(Final_results_df_all.iloc[:,6],Final_results_df_all.iloc[:,13])"
   ]
  },
  {
   "cell_type": "code",
   "execution_count": 39,
   "id": "3b6fd8b0",
   "metadata": {},
   "outputs": [],
   "source": [
    "Fold_4_accuracy = metrics.accuracy_score(Final_results_df_all.iloc[:,8],Final_results_df_all.iloc[:,14])\n",
    "Fold_4_f1 = metrics.f1_score(Final_results_df_all.iloc[:,8],Final_results_df_all.iloc[:,14])"
   ]
  },
  {
   "cell_type": "code",
   "execution_count": 40,
   "id": "2b41119f",
   "metadata": {},
   "outputs": [],
   "source": [
    "Fold_5_accuracy = metrics.accuracy_score(Final_results_df_all.iloc[:,10],Final_results_df_all.iloc[:,15])\n",
    "Fold_5_f1 = metrics.f1_score(Final_results_df_all.iloc[:,10],Final_results_df_all.iloc[:,15])"
   ]
  },
  {
   "cell_type": "code",
   "execution_count": 41,
   "id": "3ce9a73b",
   "metadata": {},
   "outputs": [],
   "source": [
    "mean_accuracy = np.mean([Fold_1_accuracy,Fold_2_accuracy,Fold_3_accuracy,Fold_4_accuracy,Fold_5_accuracy])\n",
    "std_accuracy = np.std([Fold_1_accuracy,Fold_2_accuracy,Fold_3_accuracy,Fold_4_accuracy,Fold_5_accuracy])"
   ]
  },
  {
   "cell_type": "code",
   "execution_count": 42,
   "id": "157e8da8",
   "metadata": {},
   "outputs": [
    {
     "data": {
      "text/plain": [
       "0.9933362575072542"
      ]
     },
     "execution_count": 42,
     "metadata": {},
     "output_type": "execute_result"
    }
   ],
   "source": [
    "mean_accuracy"
   ]
  },
  {
   "cell_type": "code",
   "execution_count": 43,
   "id": "ca340935",
   "metadata": {},
   "outputs": [
    {
     "data": {
      "text/plain": [
       "0.00017262132724589322"
      ]
     },
     "execution_count": 43,
     "metadata": {},
     "output_type": "execute_result"
    }
   ],
   "source": [
    "std_accuracy"
   ]
  },
  {
   "cell_type": "code",
   "execution_count": 44,
   "id": "cc8f9007",
   "metadata": {},
   "outputs": [],
   "source": [
    "mean_f1 = np.mean([Fold_1_f1,Fold_2_f1,Fold_3_f1,Fold_4_f1,Fold_5_f1])\n",
    "std_f1 = np.std([Fold_1_f1,Fold_2_f1,Fold_3_f1,Fold_4_f1,Fold_5_f1])"
   ]
  },
  {
   "cell_type": "code",
   "execution_count": 45,
   "id": "124ae245",
   "metadata": {},
   "outputs": [
    {
     "data": {
      "text/plain": [
       "0.5777805178244905"
      ]
     },
     "execution_count": 45,
     "metadata": {},
     "output_type": "execute_result"
    }
   ],
   "source": [
    "mean_f1"
   ]
  },
  {
   "cell_type": "code",
   "execution_count": 46,
   "id": "bcb8a337",
   "metadata": {},
   "outputs": [
    {
     "data": {
      "text/plain": [
       "0.011249109624060345"
      ]
     },
     "execution_count": 46,
     "metadata": {},
     "output_type": "execute_result"
    }
   ],
   "source": [
    "std_f1"
   ]
  },
  {
   "cell_type": "code",
   "execution_count": null,
   "id": "4e1a5a7e",
   "metadata": {},
   "outputs": [],
   "source": []
  },
  {
   "cell_type": "markdown",
   "id": "6a5a3e26",
   "metadata": {},
   "source": [
    "## EER"
   ]
  },
  {
   "cell_type": "code",
   "execution_count": 47,
   "id": "07132655",
   "metadata": {},
   "outputs": [],
   "source": [
    "diff_values1 = [abs(fnr-fpr) for fnr, fpr in zip (fnr1, fpr1)]\n",
    "diff_values2 = [abs(fnr-fpr) for fnr, fpr in zip (fnr2, fpr2)]\n",
    "diff_values3 = [abs(fnr-fpr) for fnr, fpr in zip (fnr3, fpr3)]\n",
    "diff_values4 = [abs(fnr-fpr) for fnr, fpr in zip (fnr4, fpr4)]\n",
    "diff_values5 = [abs(fnr-fpr) for fnr, fpr in zip (fnr5, fpr5)]"
   ]
  },
  {
   "cell_type": "code",
   "execution_count": 48,
   "id": "4bf17c00",
   "metadata": {},
   "outputs": [],
   "source": [
    "min_diff_index1 = diff_values1.index(min(diff_values1))\n",
    "min_diff_index2 = diff_values2.index(min(diff_values2))\n",
    "min_diff_index3 = diff_values3.index(min(diff_values3))\n",
    "min_diff_index4 = diff_values4.index(min(diff_values4))\n",
    "min_diff_index5 = diff_values5.index(min(diff_values5))"
   ]
  },
  {
   "cell_type": "code",
   "execution_count": 49,
   "id": "b0757f74",
   "metadata": {},
   "outputs": [],
   "source": [
    "eer_fnr1 = fnr1[min_diff_index1]\n",
    "eer_fpr1 = fpr1[min_diff_index1]\n",
    "eer1 = (eer_fnr1 + eer_fpr1)/2"
   ]
  },
  {
   "cell_type": "code",
   "execution_count": 50,
   "id": "0c006a64",
   "metadata": {},
   "outputs": [],
   "source": [
    "eer_fnr2 = fnr2[min_diff_index2]\n",
    "eer_fpr2 = fpr2[min_diff_index2]\n",
    "eer2 = (eer_fnr2 + eer_fpr2)/2"
   ]
  },
  {
   "cell_type": "code",
   "execution_count": 51,
   "id": "3c273b8f",
   "metadata": {},
   "outputs": [],
   "source": [
    "eer_fnr3 = fnr3[min_diff_index3]\n",
    "eer_fpr3 = fpr3[min_diff_index3]\n",
    "eer3 = (eer_fnr3 + eer_fpr3)/2"
   ]
  },
  {
   "cell_type": "code",
   "execution_count": 52,
   "id": "6ddbf55c",
   "metadata": {},
   "outputs": [],
   "source": [
    "eer_fnr4 = fnr4[min_diff_index4]\n",
    "eer_fpr4 = fpr4[min_diff_index4]\n",
    "eer4 = (eer_fnr4 + eer_fpr4)/2"
   ]
  },
  {
   "cell_type": "code",
   "execution_count": 53,
   "id": "37805ba3",
   "metadata": {},
   "outputs": [],
   "source": [
    "eer_fnr5 = fnr5[min_diff_index5]\n",
    "eer_fpr5 = fpr5[min_diff_index5]\n",
    "eer5 = (eer_fnr5 + eer_fpr5)/2"
   ]
  },
  {
   "cell_type": "code",
   "execution_count": 54,
   "id": "a838b437",
   "metadata": {},
   "outputs": [],
   "source": [
    "mean_eer = np.mean([eer1,eer2,eer3,eer4,eer5])\n",
    "std_eer = np.std([eer1,eer2,eer3,eer4,eer5])"
   ]
  },
  {
   "cell_type": "code",
   "execution_count": 55,
   "id": "9f097655",
   "metadata": {},
   "outputs": [
    {
     "data": {
      "text/plain": [
       "0.09804810148935975"
      ]
     },
     "execution_count": 55,
     "metadata": {},
     "output_type": "execute_result"
    }
   ],
   "source": [
    "mean_eer"
   ]
  },
  {
   "cell_type": "code",
   "execution_count": 56,
   "id": "e6ea5b15",
   "metadata": {},
   "outputs": [
    {
     "data": {
      "text/plain": [
       "0.006559865084298798"
      ]
     },
     "execution_count": 56,
     "metadata": {},
     "output_type": "execute_result"
    }
   ],
   "source": [
    "std_eer"
   ]
  },
  {
   "cell_type": "code",
   "execution_count": null,
   "id": "978f68dc",
   "metadata": {},
   "outputs": [],
   "source": []
  }
 ],
 "metadata": {
  "kernelspec": {
   "display_name": "Python 3 (ipykernel)",
   "language": "python",
   "name": "python3"
  },
  "language_info": {
   "codemirror_mode": {
    "name": "ipython",
    "version": 3
   },
   "file_extension": ".py",
   "mimetype": "text/x-python",
   "name": "python",
   "nbconvert_exporter": "python",
   "pygments_lexer": "ipython3",
   "version": "3.9.7"
  }
 },
 "nbformat": 4,
 "nbformat_minor": 5
}
